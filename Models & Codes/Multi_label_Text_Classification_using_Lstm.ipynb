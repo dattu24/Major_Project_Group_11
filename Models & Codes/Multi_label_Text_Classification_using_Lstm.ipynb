{
  "cells": [
    {
      "cell_type": "code",
      "execution_count": 1,
      "metadata": {
        "id": "9OXTaFtwi1hg",
        "colab": {
          "base_uri": "https://localhost:8080/"
        },
        "outputId": "8997ad0d-c262-41a2-eeef-96505a14b676"
      },
      "outputs": [
        {
          "output_type": "stream",
          "name": "stdout",
          "text": [
            "Mounted at /content/gdrive\n"
          ]
        }
      ],
      "source": [
        "from google.colab import drive\n",
        "drive.mount('/content/gdrive')"
      ]
    },
    {
      "cell_type": "markdown",
      "metadata": {
        "id": "524b19c9"
      },
      "source": [
        "#  Importing Libraries"
      ]
    },
    {
      "cell_type": "code",
      "execution_count": 2,
      "metadata": {
        "colab": {
          "base_uri": "https://localhost:8080/"
        },
        "id": "e82GwmyanQAz",
        "outputId": "53c33e41-978e-40ab-fd70-9175665a4d51"
      },
      "outputs": [
        {
          "output_type": "stream",
          "name": "stdout",
          "text": [
            "Collecting sentence_transformers\n",
            "  Downloading sentence-transformers-2.2.0.tar.gz (79 kB)\n",
            "\u001b[K     |████████████████████████████████| 79 kB 3.8 MB/s \n",
            "\u001b[?25hCollecting transformers<5.0.0,>=4.6.0\n",
            "  Downloading transformers-4.18.0-py3-none-any.whl (4.0 MB)\n",
            "\u001b[K     |████████████████████████████████| 4.0 MB 12.6 MB/s \n",
            "\u001b[?25hRequirement already satisfied: tqdm in /usr/local/lib/python3.7/dist-packages (from sentence_transformers) (4.64.0)\n",
            "Requirement already satisfied: torch>=1.6.0 in /usr/local/lib/python3.7/dist-packages (from sentence_transformers) (1.11.0+cu113)\n",
            "Requirement already satisfied: torchvision in /usr/local/lib/python3.7/dist-packages (from sentence_transformers) (0.12.0+cu113)\n",
            "Requirement already satisfied: numpy in /usr/local/lib/python3.7/dist-packages (from sentence_transformers) (1.21.6)\n",
            "Requirement already satisfied: scikit-learn in /usr/local/lib/python3.7/dist-packages (from sentence_transformers) (1.0.2)\n",
            "Requirement already satisfied: scipy in /usr/local/lib/python3.7/dist-packages (from sentence_transformers) (1.4.1)\n",
            "Requirement already satisfied: nltk in /usr/local/lib/python3.7/dist-packages (from sentence_transformers) (3.2.5)\n",
            "Collecting sentencepiece\n",
            "  Downloading sentencepiece-0.1.96-cp37-cp37m-manylinux_2_17_x86_64.manylinux2014_x86_64.whl (1.2 MB)\n",
            "\u001b[K     |████████████████████████████████| 1.2 MB 38.6 MB/s \n",
            "\u001b[?25hCollecting huggingface-hub\n",
            "  Downloading huggingface_hub-0.5.1-py3-none-any.whl (77 kB)\n",
            "\u001b[K     |████████████████████████████████| 77 kB 3.3 MB/s \n",
            "\u001b[?25hRequirement already satisfied: typing-extensions in /usr/local/lib/python3.7/dist-packages (from torch>=1.6.0->sentence_transformers) (4.2.0)\n",
            "Requirement already satisfied: importlib-metadata in /usr/local/lib/python3.7/dist-packages (from transformers<5.0.0,>=4.6.0->sentence_transformers) (4.11.3)\n",
            "Collecting pyyaml>=5.1\n",
            "  Downloading PyYAML-6.0-cp37-cp37m-manylinux_2_5_x86_64.manylinux1_x86_64.manylinux_2_12_x86_64.manylinux2010_x86_64.whl (596 kB)\n",
            "\u001b[K     |████████████████████████████████| 596 kB 38.1 MB/s \n",
            "\u001b[?25hCollecting sacremoses\n",
            "  Downloading sacremoses-0.0.53.tar.gz (880 kB)\n",
            "\u001b[K     |████████████████████████████████| 880 kB 39.3 MB/s \n",
            "\u001b[?25hRequirement already satisfied: filelock in /usr/local/lib/python3.7/dist-packages (from transformers<5.0.0,>=4.6.0->sentence_transformers) (3.6.0)\n",
            "Requirement already satisfied: packaging>=20.0 in /usr/local/lib/python3.7/dist-packages (from transformers<5.0.0,>=4.6.0->sentence_transformers) (21.3)\n",
            "Requirement already satisfied: regex!=2019.12.17 in /usr/local/lib/python3.7/dist-packages (from transformers<5.0.0,>=4.6.0->sentence_transformers) (2019.12.20)\n",
            "Requirement already satisfied: requests in /usr/local/lib/python3.7/dist-packages (from transformers<5.0.0,>=4.6.0->sentence_transformers) (2.23.0)\n",
            "Collecting tokenizers!=0.11.3,<0.13,>=0.11.1\n",
            "  Downloading tokenizers-0.12.1-cp37-cp37m-manylinux_2_12_x86_64.manylinux2010_x86_64.whl (6.6 MB)\n",
            "\u001b[K     |████████████████████████████████| 6.6 MB 34.1 MB/s \n",
            "\u001b[?25hRequirement already satisfied: pyparsing!=3.0.5,>=2.0.2 in /usr/local/lib/python3.7/dist-packages (from packaging>=20.0->transformers<5.0.0,>=4.6.0->sentence_transformers) (3.0.8)\n",
            "Requirement already satisfied: zipp>=0.5 in /usr/local/lib/python3.7/dist-packages (from importlib-metadata->transformers<5.0.0,>=4.6.0->sentence_transformers) (3.8.0)\n",
            "Requirement already satisfied: six in /usr/local/lib/python3.7/dist-packages (from nltk->sentence_transformers) (1.15.0)\n",
            "Requirement already satisfied: certifi>=2017.4.17 in /usr/local/lib/python3.7/dist-packages (from requests->transformers<5.0.0,>=4.6.0->sentence_transformers) (2021.10.8)\n",
            "Requirement already satisfied: idna<3,>=2.5 in /usr/local/lib/python3.7/dist-packages (from requests->transformers<5.0.0,>=4.6.0->sentence_transformers) (2.10)\n",
            "Requirement already satisfied: urllib3!=1.25.0,!=1.25.1,<1.26,>=1.21.1 in /usr/local/lib/python3.7/dist-packages (from requests->transformers<5.0.0,>=4.6.0->sentence_transformers) (1.24.3)\n",
            "Requirement already satisfied: chardet<4,>=3.0.2 in /usr/local/lib/python3.7/dist-packages (from requests->transformers<5.0.0,>=4.6.0->sentence_transformers) (3.0.4)\n",
            "Requirement already satisfied: click in /usr/local/lib/python3.7/dist-packages (from sacremoses->transformers<5.0.0,>=4.6.0->sentence_transformers) (7.1.2)\n",
            "Requirement already satisfied: joblib in /usr/local/lib/python3.7/dist-packages (from sacremoses->transformers<5.0.0,>=4.6.0->sentence_transformers) (1.1.0)\n",
            "Requirement already satisfied: threadpoolctl>=2.0.0 in /usr/local/lib/python3.7/dist-packages (from scikit-learn->sentence_transformers) (3.1.0)\n",
            "Requirement already satisfied: pillow!=8.3.*,>=5.3.0 in /usr/local/lib/python3.7/dist-packages (from torchvision->sentence_transformers) (7.1.2)\n",
            "Building wheels for collected packages: sentence-transformers, sacremoses\n",
            "  Building wheel for sentence-transformers (setup.py) ... \u001b[?25l\u001b[?25hdone\n",
            "  Created wheel for sentence-transformers: filename=sentence_transformers-2.2.0-py3-none-any.whl size=120747 sha256=a02207bedb6e56d55f99a73b85bfe22dac72e31b2ea1e0b7c9c0359f2a3648b8\n",
            "  Stored in directory: /root/.cache/pip/wheels/83/c0/df/b6873ab7aac3f2465aa9144b6b4c41c4391cfecc027c8b07e7\n",
            "  Building wheel for sacremoses (setup.py) ... \u001b[?25l\u001b[?25hdone\n",
            "  Created wheel for sacremoses: filename=sacremoses-0.0.53-py3-none-any.whl size=895260 sha256=14ac51c2b37c4e44baac95a33c89ab5ab1686f6dc91f8835c9a7b0f4a1eefd44\n",
            "  Stored in directory: /root/.cache/pip/wheels/87/39/dd/a83eeef36d0bf98e7a4d1933a4ad2d660295a40613079bafc9\n",
            "Successfully built sentence-transformers sacremoses\n",
            "Installing collected packages: pyyaml, tokenizers, sacremoses, huggingface-hub, transformers, sentencepiece, sentence-transformers\n",
            "  Attempting uninstall: pyyaml\n",
            "    Found existing installation: PyYAML 3.13\n",
            "    Uninstalling PyYAML-3.13:\n",
            "      Successfully uninstalled PyYAML-3.13\n",
            "Successfully installed huggingface-hub-0.5.1 pyyaml-6.0 sacremoses-0.0.53 sentence-transformers-2.2.0 sentencepiece-0.1.96 tokenizers-0.12.1 transformers-4.18.0\n"
          ]
        }
      ],
      "source": [
        "!pip install sentence_transformers"
      ]
    },
    {
      "cell_type": "code",
      "execution_count": 3,
      "metadata": {
        "id": "b4baddef"
      },
      "outputs": [],
      "source": [
        "import tensorflow as tf\n",
        "import pandas as pd\n",
        "import numpy as np\n",
        "import glob\n",
        "import os\n",
        "import keras\n",
        "from keras.preprocessing.text import Tokenizer\n",
        "from keras.preprocessing import sequence\n",
        "from keras.preprocessing.sequence import pad_sequences\n",
        "from sklearn.model_selection import train_test_split\n",
        "from keras.models import Sequential\n",
        "from keras.layers import Dense, LSTM, Embedding, SpatialDropout1D, Dropout,Bidirectional,Layer\n",
        "from sklearn import metrics\n",
        "from sklearn.metrics import classification_report,multilabel_confusion_matrix\n",
        "import seaborn as sns\n",
        "import matplotlib.pyplot as plt\n",
        "from sklearn.metrics import confusion_matrix\n",
        "from sklearn.metrics import accuracy_score\n",
        "\n",
        "import keras.utils\n",
        "from keras.utils.vis_utils import plot_model\n",
        "from sklearn.utils import shuffle\n",
        "from tensorflow.keras.optimizers import Adam, RMSprop\n",
        "from tensorflow.keras.layers import Input, Reshape, Dropout\n",
        "from tensorflow.keras import Model\n",
        "import csv\n",
        "from sentence_transformers import SentenceTransformer\n",
        "import pickle\n",
        "import re\n"
      ]
    },
    {
      "cell_type": "markdown",
      "metadata": {
        "id": "CjaIRUF-oMuI"
      },
      "source": [
        "# Reading Data"
      ]
    },
    {
      "cell_type": "code",
      "execution_count": 4,
      "metadata": {
        "id": "6bd9526d"
      },
      "outputs": [],
      "source": [
        "'''df = pd.read_csv('/Users/datta/tokhinglish/psuedo_data.csv')'''\n",
        "'''df = pd.read_csv('psuedo_data.csv')'''\n",
        "df = pd.read_csv('gdrive/My Drive/Major_Project_Group_11/Pseudo_Labelled_DataSets/psuedo_data.csv')"
      ]
    },
    {
      "cell_type": "code",
      "execution_count": null,
      "metadata": {
        "colab": {
          "base_uri": "https://localhost:8080/",
          "height": 424
        },
        "id": "17cvrVpqE8pT",
        "outputId": "041c94b7-2cc9-40e6-ce00-4055c7292a1e"
      },
      "outputs": [
        {
          "data": {
            "text/html": [
              "<div>\n",
              "<style scoped>\n",
              "    .dataframe tbody tr th:only-of-type {\n",
              "        vertical-align: middle;\n",
              "    }\n",
              "\n",
              "    .dataframe tbody tr th {\n",
              "        vertical-align: top;\n",
              "    }\n",
              "\n",
              "    .dataframe thead th {\n",
              "        text-align: right;\n",
              "    }\n",
              "</style>\n",
              "<table border=\"1\" class=\"dataframe\">\n",
              "  <thead>\n",
              "    <tr style=\"text-align: right;\">\n",
              "      <th></th>\n",
              "      <th>text</th>\n",
              "      <th>label_f</th>\n",
              "      <th>label_h</th>\n",
              "      <th>label_s</th>\n",
              "    </tr>\n",
              "  </thead>\n",
              "  <tbody>\n",
              "    <tr>\n",
              "      <th>0</th>\n",
              "      <td>sir  lovehate relationship ke bare mein aap ka...</td>\n",
              "      <td>1</td>\n",
              "      <td>0</td>\n",
              "      <td>0</td>\n",
              "    </tr>\n",
              "    <tr>\n",
              "      <th>1</th>\n",
              "      <td>same here he is the reason to watch bb but i c...</td>\n",
              "      <td>0</td>\n",
              "      <td>0</td>\n",
              "      <td>0</td>\n",
              "    </tr>\n",
              "    <tr>\n",
              "      <th>2</th>\n",
              "      <td>bhai koi iska rape kar doog main bahut khujli ...</td>\n",
              "      <td>0</td>\n",
              "      <td>0</td>\n",
              "      <td>0</td>\n",
              "    </tr>\n",
              "    <tr>\n",
              "      <th>3</th>\n",
              "      <td>buuma raviisha baata karaka pata laga aisa api...</td>\n",
              "      <td>1</td>\n",
              "      <td>0</td>\n",
              "      <td>0</td>\n",
              "    </tr>\n",
              "    <tr>\n",
              "      <th>4</th>\n",
              "      <td>gajar mein vitamin c hoty hain jis sey aakhon ...</td>\n",
              "      <td>1</td>\n",
              "      <td>0</td>\n",
              "      <td>0</td>\n",
              "    </tr>\n",
              "    <tr>\n",
              "      <th>...</th>\n",
              "      <td>...</td>\n",
              "      <td>...</td>\n",
              "      <td>...</td>\n",
              "      <td>...</td>\n",
              "    </tr>\n",
              "    <tr>\n",
              "      <th>10461</th>\n",
              "      <td>bas karo aunty aaplog ka gentle rape ho chuka ...</td>\n",
              "      <td>0</td>\n",
              "      <td>0</td>\n",
              "      <td>0</td>\n",
              "    </tr>\n",
              "    <tr>\n",
              "      <th>10462</th>\n",
              "      <td>masti he mohl me chahi khumari he saarey thak ...</td>\n",
              "      <td>0</td>\n",
              "      <td>0</td>\n",
              "      <td>0</td>\n",
              "    </tr>\n",
              "    <tr>\n",
              "      <th>10463</th>\n",
              "      <td>dekhna ek din koi inke jindagi ka rape karke c...</td>\n",
              "      <td>0</td>\n",
              "      <td>0</td>\n",
              "      <td>0</td>\n",
              "    </tr>\n",
              "    <tr>\n",
              "      <th>10464</th>\n",
              "      <td>aur us waqt kisi ne intolarence hai desh mein ...</td>\n",
              "      <td>0</td>\n",
              "      <td>0</td>\n",
              "      <td>1</td>\n",
              "    </tr>\n",
              "    <tr>\n",
              "      <th>10465</th>\n",
              "      <td>sala khutta bajrangi bana hova kuch to sharm kr</td>\n",
              "      <td>0</td>\n",
              "      <td>0</td>\n",
              "      <td>0</td>\n",
              "    </tr>\n",
              "  </tbody>\n",
              "</table>\n",
              "<p>10466 rows × 4 columns</p>\n",
              "</div>"
            ],
            "text/plain": [
              "                                                    text  label_f  label_h  \\\n",
              "0      sir  lovehate relationship ke bare mein aap ka...        1        0   \n",
              "1      same here he is the reason to watch bb but i c...        0        0   \n",
              "2      bhai koi iska rape kar doog main bahut khujli ...        0        0   \n",
              "3      buuma raviisha baata karaka pata laga aisa api...        1        0   \n",
              "4      gajar mein vitamin c hoty hain jis sey aakhon ...        1        0   \n",
              "...                                                  ...      ...      ...   \n",
              "10461  bas karo aunty aaplog ka gentle rape ho chuka ...        0        0   \n",
              "10462  masti he mohl me chahi khumari he saarey thak ...        0        0   \n",
              "10463  dekhna ek din koi inke jindagi ka rape karke c...        0        0   \n",
              "10464  aur us waqt kisi ne intolarence hai desh mein ...        0        0   \n",
              "10465    sala khutta bajrangi bana hova kuch to sharm kr        0        0   \n",
              "\n",
              "       label_s  \n",
              "0            0  \n",
              "1            0  \n",
              "2            0  \n",
              "3            0  \n",
              "4            0  \n",
              "...        ...  \n",
              "10461        0  \n",
              "10462        0  \n",
              "10463        0  \n",
              "10464        1  \n",
              "10465        0  \n",
              "\n",
              "[10466 rows x 4 columns]"
            ]
          },
          "execution_count": 3,
          "metadata": {},
          "output_type": "execute_result"
        }
      ],
      "source": [
        "df=df.loc[:, ~df.columns.str.match('Unnamed')]\n",
        "df"
      ]
    },
    {
      "cell_type": "markdown",
      "metadata": {
        "id": "eJoteX9cezIb"
      },
      "source": [
        "#  Text Preprocessing"
      ]
    },
    {
      "cell_type": "code",
      "execution_count": 5,
      "metadata": {
        "id": "mafb4MVOezIc"
      },
      "outputs": [],
      "source": [
        "def preprocess_text_data(df):\n",
        "  replace_by_space = re.compile('[/(){}\\[\\]\\|@,;]')\n",
        "  bad_sym = re.compile('[^a-z #+_]')\n",
        "  def clean_text(text):\n",
        "    text = text.lower()\n",
        "    text = replace_by_space.sub(' ',text)\n",
        "    text = bad_sym.sub('', text)\n",
        "    return text\n",
        "  df.dropna(subset = ['text'], inplace = True)\n",
        "  df['text'] = df['text'].apply(clean_text)"
      ]
    },
    {
      "cell_type": "code",
      "execution_count": 6,
      "metadata": {
        "id": "OtwqvNW6ezId"
      },
      "outputs": [],
      "source": [
        "df1=df"
      ]
    },
    {
      "cell_type": "code",
      "execution_count": 7,
      "metadata": {
        "id": "mzZVKjbmezIe"
      },
      "outputs": [],
      "source": [
        "preprocess_text_data(df1)"
      ]
    },
    {
      "cell_type": "markdown",
      "metadata": {
        "id": "kY4Rk66zoWYq"
      },
      "source": [
        "# **Embeddings Function**\n",
        "\n",
        "\n"
      ]
    },
    {
      "cell_type": "code",
      "execution_count": null,
      "metadata": {
        "id": "1552e6a7"
      },
      "outputs": [],
      "source": [
        "def get_embeddings(df):\n",
        "    sentences = list(df['text'])\n",
        "    model = SentenceTransformer('sentence-transformers/stsb-xlm-r-multilingual')\n",
        "    embeddings = model.encode(sentences)\n",
        "    model = SentenceTransformer('bert-base-multilingual-cased')\n",
        "    embeddingss = model.encode(sentences)\n",
        "    y=np.add(embeddings,embeddingss)\n",
        "    y2=np.divide(y,2)\n",
        "    return embeddings,embeddingss,y2"
      ]
    },
    {
      "cell_type": "markdown",
      "metadata": {
        "id": "9e08e49c"
      },
      "source": [
        "# **Embeddings and Embeddings Size Reduction**"
      ]
    },
    {
      "cell_type": "code",
      "execution_count": null,
      "metadata": {
        "id": "b9f5d78b",
        "outputId": "160aa05d-7af1-4614-fb73-bdc7c8885145"
      },
      "outputs": [
        {
          "name": "stderr",
          "output_type": "stream",
          "text": [
            "WARNING:root:No sentence-transformers model found with name C:\\Users\\datta/.cache\\torch\\sentence_transformers\\bert-base-multilingual-cased. Creating a new one with MEAN pooling.\n",
            "Some weights of the model checkpoint at C:\\Users\\datta/.cache\\torch\\sentence_transformers\\bert-base-multilingual-cased were not used when initializing BertModel: ['cls.predictions.decoder.weight', 'cls.predictions.transform.LayerNorm.bias', 'cls.seq_relationship.weight', 'cls.predictions.bias', 'cls.predictions.transform.dense.weight', 'cls.predictions.transform.LayerNorm.weight', 'cls.seq_relationship.bias', 'cls.predictions.transform.dense.bias']\n",
            "- This IS expected if you are initializing BertModel from the checkpoint of a model trained on another task or with another architecture (e.g. initializing a BertForSequenceClassification model from a BertForPreTraining model).\n",
            "- This IS NOT expected if you are initializing BertModel from the checkpoint of a model that you expect to be exactly identical (initializing a BertForSequenceClassification model from a BertForSequenceClassification model).\n"
          ]
        }
      ],
      "source": [
        "embeddings_d_xlm,embeddings_d_bert_multilingual,y8 = get_embeddings(df1)"
      ]
    },
    {
      "cell_type": "code",
      "execution_count": null,
      "metadata": {
        "id": "cf166f12",
        "outputId": "90f51692-6406-4a56-d505-a4c9ccfb8ca0"
      },
      "outputs": [
        {
          "name": "stdout",
          "output_type": "stream",
          "text": [
            "[[ 0.07760719  0.26713616  0.6672787  ...  0.00388296 -0.042463\n",
            "   0.03016911]\n",
            " [ 0.33996582  0.08725528  0.02253492 ...  0.81181246 -0.08421463\n",
            "   0.03725218]\n",
            " [ 0.09473173 -0.03542611 -0.09560873 ...  0.09384529 -0.08486855\n",
            "  -0.17937572]\n",
            " ...\n",
            " [ 0.11105699  0.06482825  0.22452624 ...  0.29086405 -0.1128779\n",
            "  -0.06746754]\n",
            " [ 0.04918349 -0.01484101  0.40636596 ... -0.38343456  0.05330944\n",
            "   0.01544872]\n",
            " [-0.00106991  0.24078679  0.231348   ...  0.19082162 -0.17955999\n",
            "  -0.0301618 ]]\n"
          ]
        }
      ],
      "source": [
        "print(y8)"
      ]
    },
    {
      "cell_type": "code",
      "execution_count": null,
      "metadata": {
        "id": "85445b32",
        "outputId": "af72f6e6-1fc5-450c-e31b-56d132c16492"
      },
      "outputs": [
        {
          "data": {
            "text/plain": [
              "(10466, 768)"
            ]
          },
          "execution_count": 10,
          "metadata": {},
          "output_type": "execute_result"
        }
      ],
      "source": [
        "embeddings_d_xlm.shape"
      ]
    },
    {
      "cell_type": "code",
      "execution_count": null,
      "metadata": {
        "id": "812b9691",
        "scrolled": false,
        "outputId": "466a9041-a41e-404e-d7ab-b0837194a477"
      },
      "outputs": [
        {
          "data": {
            "text/plain": [
              "(10466, 768)"
            ]
          },
          "execution_count": 11,
          "metadata": {},
          "output_type": "execute_result"
        }
      ],
      "source": [
        "embeddings_d_bert_multilingual.shape"
      ]
    },
    {
      "cell_type": "code",
      "execution_count": null,
      "metadata": {
        "id": "36384c3b"
      },
      "outputs": [],
      "source": [
        "pickle.dump(y8, open('embeddings_combined_data.pkl', 'wb'))"
      ]
    },
    {
      "cell_type": "code",
      "execution_count": 8,
      "metadata": {
        "id": "16395d04"
      },
      "outputs": [],
      "source": [
        "'''y8 = pd.read_pickle('embeddings_combined_data.pkl')'''\n",
        "y8 = pd.read_pickle('gdrive/My Drive/Major_Project_Group_11/Embeddings/embeddings_combined_data.pkl')"
      ]
    },
    {
      "cell_type": "code",
      "execution_count": 9,
      "metadata": {
        "colab": {
          "base_uri": "https://localhost:8080/"
        },
        "id": "06eb77ee",
        "outputId": "e922a468-6eaf-42da-d062-318b650a4b58"
      },
      "outputs": [
        {
          "output_type": "execute_result",
          "data": {
            "text/plain": [
              "array([[ 0.07760719,  0.26713616,  0.6672787 , ...,  0.00388296,\n",
              "        -0.042463  ,  0.03016911],\n",
              "       [ 0.33996582,  0.08725528,  0.02253492, ...,  0.81181246,\n",
              "        -0.08421463,  0.03725218],\n",
              "       [ 0.09473173, -0.03542611, -0.09560873, ...,  0.09384529,\n",
              "        -0.08486855, -0.17937572],\n",
              "       ...,\n",
              "       [ 0.11105699,  0.06482825,  0.22452624, ...,  0.29086405,\n",
              "        -0.1128779 , -0.06746754],\n",
              "       [ 0.04918349, -0.01484101,  0.40636596, ..., -0.38343456,\n",
              "         0.05330944,  0.01544872],\n",
              "       [-0.00106991,  0.24078679,  0.231348  , ...,  0.19082162,\n",
              "        -0.17955999, -0.0301618 ]], dtype=float32)"
            ]
          },
          "metadata": {},
          "execution_count": 9
        }
      ],
      "source": [
        "y8"
      ]
    },
    {
      "cell_type": "code",
      "execution_count": 10,
      "metadata": {
        "id": "eeec155f"
      },
      "outputs": [],
      "source": [
        "encoding_dim = 200\n",
        "ncol1 = y8.shape[1]\n",
        "input_dim1 = Input(shape = (ncol1, ))\n",
        "\n",
        "# Encoder Layers\n",
        "encoded11 = Dense(768, activation = 'relu')(input_dim1)\n",
        "encoded21 = Dense(512, activation = 'relu')(encoded11)\n",
        "encoded31 = Dense(256, activation = 'relu')(encoded21)\n",
        "encoded131 = Dense(encoding_dim, activation = 'relu')(encoded31)\n",
        "\n",
        "# Decoder Layers\n",
        "decoded11 = Dense(256, activation = 'relu')(encoded131)\n",
        "decoded21 = Dense(512, activation = 'relu')(decoded11)\n",
        "decoded31 = Dense(768, activation = 'relu')(decoded21)\n",
        "decoded131 = Dense(ncol1, activation = 'sigmoid')(decoded31)\n",
        "\n",
        "# Combine Encoder and Deocder layers\n",
        "autoencoder1 = Model(inputs = input_dim1, outputs = decoded131)\n",
        "\n",
        "# Compile the Model\n",
        "autoencoder1.compile(optimizer = 'adadelta', loss = 'binary_crossentropy')"
      ]
    },
    {
      "cell_type": "code",
      "execution_count": null,
      "metadata": {
        "colab": {
          "base_uri": "https://localhost:8080/"
        },
        "id": "677a08c2",
        "outputId": "150dfcab-2b6a-4a0d-bcc6-7b3dd0b47f89",
        "scrolled": true
      },
      "outputs": [
        {
          "name": "stdout",
          "output_type": "stream",
          "text": [
            "Model: \"model\"\n",
            "_________________________________________________________________\n",
            " Layer (type)                Output Shape              Param #   \n",
            "=================================================================\n",
            " input_1 (InputLayer)        [(None, 768)]             0         \n",
            "                                                                 \n",
            " dense (Dense)               (None, 768)               590592    \n",
            "                                                                 \n",
            " dense_1 (Dense)             (None, 512)               393728    \n",
            "                                                                 \n",
            " dense_2 (Dense)             (None, 256)               131328    \n",
            "                                                                 \n",
            " dense_3 (Dense)             (None, 200)               51400     \n",
            "                                                                 \n",
            " dense_4 (Dense)             (None, 256)               51456     \n",
            "                                                                 \n",
            " dense_5 (Dense)             (None, 512)               131584    \n",
            "                                                                 \n",
            " dense_6 (Dense)             (None, 768)               393984    \n",
            "                                                                 \n",
            " dense_7 (Dense)             (None, 768)               590592    \n",
            "                                                                 \n",
            "=================================================================\n",
            "Total params: 2,334,664\n",
            "Trainable params: 2,334,664\n",
            "Non-trainable params: 0\n",
            "_________________________________________________________________\n"
          ]
        }
      ],
      "source": [
        "autoencoder1.summary()"
      ]
    },
    {
      "cell_type": "code",
      "execution_count": 11,
      "metadata": {
        "colab": {
          "base_uri": "https://localhost:8080/"
        },
        "id": "50c9a1e5",
        "outputId": "1fcd9ba6-d1cb-43bf-a97c-7228f67f5241",
        "scrolled": true
      },
      "outputs": [
        {
          "output_type": "stream",
          "name": "stdout",
          "text": [
            "Epoch 1/5\n",
            "328/328 [==============================] - 14s 41ms/step - loss: 0.6934 - val_loss: 0.6932\n",
            "Epoch 2/5\n",
            "328/328 [==============================] - 14s 42ms/step - loss: 0.6930 - val_loss: 0.6929\n",
            "Epoch 3/5\n",
            "328/328 [==============================] - 23s 71ms/step - loss: 0.6927 - val_loss: 0.6925\n",
            "Epoch 4/5\n",
            "328/328 [==============================] - 23s 70ms/step - loss: 0.6924 - val_loss: 0.6922\n",
            "Epoch 5/5\n",
            "328/328 [==============================] - 20s 61ms/step - loss: 0.6921 - val_loss: 0.6919\n"
          ]
        },
        {
          "output_type": "execute_result",
          "data": {
            "text/plain": [
              "<keras.callbacks.History at 0x7f1bc0ad4c90>"
            ]
          },
          "metadata": {},
          "execution_count": 11
        }
      ],
      "source": [
        "autoencoder1.fit(y8, y8,epochs = 5, batch_size = 32, shuffle = False, validation_data = (y8,y8))"
      ]
    },
    {
      "cell_type": "code",
      "execution_count": 12,
      "metadata": {
        "id": "d256ffbf"
      },
      "outputs": [],
      "source": [
        "encoder1 = Model(inputs = input_dim1, outputs = encoded131)\n",
        "encoded_input1 = Input(shape = (encoding_dim, ))"
      ]
    },
    {
      "cell_type": "code",
      "execution_count": 13,
      "metadata": {
        "id": "d726c1f0"
      },
      "outputs": [],
      "source": [
        "yed = pd.DataFrame(encoder1.predict(y8))"
      ]
    },
    {
      "cell_type": "code",
      "execution_count": 14,
      "metadata": {
        "colab": {
          "base_uri": "https://localhost:8080/",
          "height": 0
        },
        "id": "589c3eb0",
        "outputId": "458afeed-abb1-4231-e1b1-162db3c61ff3",
        "scrolled": true
      },
      "outputs": [
        {
          "output_type": "stream",
          "name": "stdout",
          "text": [
            "(10466, 200)\n"
          ]
        },
        {
          "output_type": "execute_result",
          "data": {
            "text/plain": [
              "   0         1         2         3         4         5         6         7    \\\n",
              "0  0.0  0.000000  0.000000  0.091712  0.000000  0.012592  0.126608  0.000000   \n",
              "1  0.0  0.018467  0.049590  0.072048  0.021506  0.000000  0.000000  0.065642   \n",
              "2  0.0  0.121932  0.029108  0.079969  0.000000  0.000000  0.088876  0.000000   \n",
              "3  0.0  0.070203  0.043523  0.149682  0.000000  0.000000  0.117968  0.000000   \n",
              "4  0.0  0.053268  0.069151  0.277730  0.000000  0.000000  0.019270  0.000000   \n",
              "\n",
              "   8         9    ...       190  191       192       193       194       195  \\\n",
              "0  0.0  0.000000  ...  0.000000  0.0  0.036096  0.000000  0.000000  0.002153   \n",
              "1  0.0  0.241668  ...  0.000000  0.0  0.000000  0.163446  0.107704  0.000000   \n",
              "2  0.0  0.017826  ...  0.032299  0.0  0.001365  0.000000  0.000000  0.056994   \n",
              "3  0.0  0.107726  ...  0.015346  0.0  0.102047  0.007069  0.000000  0.032227   \n",
              "4  0.0  0.112217  ...  0.100857  0.0  0.124513  0.000000  0.000000  0.000000   \n",
              "\n",
              "   196       197  198       199  \n",
              "0  0.0  0.000000  0.0  0.000000  \n",
              "1  0.0  0.011391  0.0  0.205284  \n",
              "2  0.0  0.015193  0.0  0.118318  \n",
              "3  0.0  0.023874  0.0  0.063582  \n",
              "4  0.0  0.067578  0.0  0.049661  \n",
              "\n",
              "[5 rows x 200 columns]"
            ],
            "text/html": [
              "\n",
              "  <div id=\"df-c07c3c44-bd7c-4cec-9ee4-27835012a4fb\">\n",
              "    <div class=\"colab-df-container\">\n",
              "      <div>\n",
              "<style scoped>\n",
              "    .dataframe tbody tr th:only-of-type {\n",
              "        vertical-align: middle;\n",
              "    }\n",
              "\n",
              "    .dataframe tbody tr th {\n",
              "        vertical-align: top;\n",
              "    }\n",
              "\n",
              "    .dataframe thead th {\n",
              "        text-align: right;\n",
              "    }\n",
              "</style>\n",
              "<table border=\"1\" class=\"dataframe\">\n",
              "  <thead>\n",
              "    <tr style=\"text-align: right;\">\n",
              "      <th></th>\n",
              "      <th>0</th>\n",
              "      <th>1</th>\n",
              "      <th>2</th>\n",
              "      <th>3</th>\n",
              "      <th>4</th>\n",
              "      <th>5</th>\n",
              "      <th>6</th>\n",
              "      <th>7</th>\n",
              "      <th>8</th>\n",
              "      <th>9</th>\n",
              "      <th>...</th>\n",
              "      <th>190</th>\n",
              "      <th>191</th>\n",
              "      <th>192</th>\n",
              "      <th>193</th>\n",
              "      <th>194</th>\n",
              "      <th>195</th>\n",
              "      <th>196</th>\n",
              "      <th>197</th>\n",
              "      <th>198</th>\n",
              "      <th>199</th>\n",
              "    </tr>\n",
              "  </thead>\n",
              "  <tbody>\n",
              "    <tr>\n",
              "      <th>0</th>\n",
              "      <td>0.0</td>\n",
              "      <td>0.000000</td>\n",
              "      <td>0.000000</td>\n",
              "      <td>0.091712</td>\n",
              "      <td>0.000000</td>\n",
              "      <td>0.012592</td>\n",
              "      <td>0.126608</td>\n",
              "      <td>0.000000</td>\n",
              "      <td>0.0</td>\n",
              "      <td>0.000000</td>\n",
              "      <td>...</td>\n",
              "      <td>0.000000</td>\n",
              "      <td>0.0</td>\n",
              "      <td>0.036096</td>\n",
              "      <td>0.000000</td>\n",
              "      <td>0.000000</td>\n",
              "      <td>0.002153</td>\n",
              "      <td>0.0</td>\n",
              "      <td>0.000000</td>\n",
              "      <td>0.0</td>\n",
              "      <td>0.000000</td>\n",
              "    </tr>\n",
              "    <tr>\n",
              "      <th>1</th>\n",
              "      <td>0.0</td>\n",
              "      <td>0.018467</td>\n",
              "      <td>0.049590</td>\n",
              "      <td>0.072048</td>\n",
              "      <td>0.021506</td>\n",
              "      <td>0.000000</td>\n",
              "      <td>0.000000</td>\n",
              "      <td>0.065642</td>\n",
              "      <td>0.0</td>\n",
              "      <td>0.241668</td>\n",
              "      <td>...</td>\n",
              "      <td>0.000000</td>\n",
              "      <td>0.0</td>\n",
              "      <td>0.000000</td>\n",
              "      <td>0.163446</td>\n",
              "      <td>0.107704</td>\n",
              "      <td>0.000000</td>\n",
              "      <td>0.0</td>\n",
              "      <td>0.011391</td>\n",
              "      <td>0.0</td>\n",
              "      <td>0.205284</td>\n",
              "    </tr>\n",
              "    <tr>\n",
              "      <th>2</th>\n",
              "      <td>0.0</td>\n",
              "      <td>0.121932</td>\n",
              "      <td>0.029108</td>\n",
              "      <td>0.079969</td>\n",
              "      <td>0.000000</td>\n",
              "      <td>0.000000</td>\n",
              "      <td>0.088876</td>\n",
              "      <td>0.000000</td>\n",
              "      <td>0.0</td>\n",
              "      <td>0.017826</td>\n",
              "      <td>...</td>\n",
              "      <td>0.032299</td>\n",
              "      <td>0.0</td>\n",
              "      <td>0.001365</td>\n",
              "      <td>0.000000</td>\n",
              "      <td>0.000000</td>\n",
              "      <td>0.056994</td>\n",
              "      <td>0.0</td>\n",
              "      <td>0.015193</td>\n",
              "      <td>0.0</td>\n",
              "      <td>0.118318</td>\n",
              "    </tr>\n",
              "    <tr>\n",
              "      <th>3</th>\n",
              "      <td>0.0</td>\n",
              "      <td>0.070203</td>\n",
              "      <td>0.043523</td>\n",
              "      <td>0.149682</td>\n",
              "      <td>0.000000</td>\n",
              "      <td>0.000000</td>\n",
              "      <td>0.117968</td>\n",
              "      <td>0.000000</td>\n",
              "      <td>0.0</td>\n",
              "      <td>0.107726</td>\n",
              "      <td>...</td>\n",
              "      <td>0.015346</td>\n",
              "      <td>0.0</td>\n",
              "      <td>0.102047</td>\n",
              "      <td>0.007069</td>\n",
              "      <td>0.000000</td>\n",
              "      <td>0.032227</td>\n",
              "      <td>0.0</td>\n",
              "      <td>0.023874</td>\n",
              "      <td>0.0</td>\n",
              "      <td>0.063582</td>\n",
              "    </tr>\n",
              "    <tr>\n",
              "      <th>4</th>\n",
              "      <td>0.0</td>\n",
              "      <td>0.053268</td>\n",
              "      <td>0.069151</td>\n",
              "      <td>0.277730</td>\n",
              "      <td>0.000000</td>\n",
              "      <td>0.000000</td>\n",
              "      <td>0.019270</td>\n",
              "      <td>0.000000</td>\n",
              "      <td>0.0</td>\n",
              "      <td>0.112217</td>\n",
              "      <td>...</td>\n",
              "      <td>0.100857</td>\n",
              "      <td>0.0</td>\n",
              "      <td>0.124513</td>\n",
              "      <td>0.000000</td>\n",
              "      <td>0.000000</td>\n",
              "      <td>0.000000</td>\n",
              "      <td>0.0</td>\n",
              "      <td>0.067578</td>\n",
              "      <td>0.0</td>\n",
              "      <td>0.049661</td>\n",
              "    </tr>\n",
              "  </tbody>\n",
              "</table>\n",
              "<p>5 rows × 200 columns</p>\n",
              "</div>\n",
              "      <button class=\"colab-df-convert\" onclick=\"convertToInteractive('df-c07c3c44-bd7c-4cec-9ee4-27835012a4fb')\"\n",
              "              title=\"Convert this dataframe to an interactive table.\"\n",
              "              style=\"display:none;\">\n",
              "        \n",
              "  <svg xmlns=\"http://www.w3.org/2000/svg\" height=\"24px\"viewBox=\"0 0 24 24\"\n",
              "       width=\"24px\">\n",
              "    <path d=\"M0 0h24v24H0V0z\" fill=\"none\"/>\n",
              "    <path d=\"M18.56 5.44l.94 2.06.94-2.06 2.06-.94-2.06-.94-.94-2.06-.94 2.06-2.06.94zm-11 1L8.5 8.5l.94-2.06 2.06-.94-2.06-.94L8.5 2.5l-.94 2.06-2.06.94zm10 10l.94 2.06.94-2.06 2.06-.94-2.06-.94-.94-2.06-.94 2.06-2.06.94z\"/><path d=\"M17.41 7.96l-1.37-1.37c-.4-.4-.92-.59-1.43-.59-.52 0-1.04.2-1.43.59L10.3 9.45l-7.72 7.72c-.78.78-.78 2.05 0 2.83L4 21.41c.39.39.9.59 1.41.59.51 0 1.02-.2 1.41-.59l7.78-7.78 2.81-2.81c.8-.78.8-2.07 0-2.86zM5.41 20L4 18.59l7.72-7.72 1.47 1.35L5.41 20z\"/>\n",
              "  </svg>\n",
              "      </button>\n",
              "      \n",
              "  <style>\n",
              "    .colab-df-container {\n",
              "      display:flex;\n",
              "      flex-wrap:wrap;\n",
              "      gap: 12px;\n",
              "    }\n",
              "\n",
              "    .colab-df-convert {\n",
              "      background-color: #E8F0FE;\n",
              "      border: none;\n",
              "      border-radius: 50%;\n",
              "      cursor: pointer;\n",
              "      display: none;\n",
              "      fill: #1967D2;\n",
              "      height: 32px;\n",
              "      padding: 0 0 0 0;\n",
              "      width: 32px;\n",
              "    }\n",
              "\n",
              "    .colab-df-convert:hover {\n",
              "      background-color: #E2EBFA;\n",
              "      box-shadow: 0px 1px 2px rgba(60, 64, 67, 0.3), 0px 1px 3px 1px rgba(60, 64, 67, 0.15);\n",
              "      fill: #174EA6;\n",
              "    }\n",
              "\n",
              "    [theme=dark] .colab-df-convert {\n",
              "      background-color: #3B4455;\n",
              "      fill: #D2E3FC;\n",
              "    }\n",
              "\n",
              "    [theme=dark] .colab-df-convert:hover {\n",
              "      background-color: #434B5C;\n",
              "      box-shadow: 0px 1px 3px 1px rgba(0, 0, 0, 0.15);\n",
              "      filter: drop-shadow(0px 1px 2px rgba(0, 0, 0, 0.3));\n",
              "      fill: #FFFFFF;\n",
              "    }\n",
              "  </style>\n",
              "\n",
              "      <script>\n",
              "        const buttonEl =\n",
              "          document.querySelector('#df-c07c3c44-bd7c-4cec-9ee4-27835012a4fb button.colab-df-convert');\n",
              "        buttonEl.style.display =\n",
              "          google.colab.kernel.accessAllowed ? 'block' : 'none';\n",
              "\n",
              "        async function convertToInteractive(key) {\n",
              "          const element = document.querySelector('#df-c07c3c44-bd7c-4cec-9ee4-27835012a4fb');\n",
              "          const dataTable =\n",
              "            await google.colab.kernel.invokeFunction('convertToInteractive',\n",
              "                                                     [key], {});\n",
              "          if (!dataTable) return;\n",
              "\n",
              "          const docLinkHtml = 'Like what you see? Visit the ' +\n",
              "            '<a target=\"_blank\" href=https://colab.research.google.com/notebooks/data_table.ipynb>data table notebook</a>'\n",
              "            + ' to learn more about interactive tables.';\n",
              "          element.innerHTML = '';\n",
              "          dataTable['output_type'] = 'display_data';\n",
              "          await google.colab.output.renderOutput(dataTable, element);\n",
              "          const docLink = document.createElement('div');\n",
              "          docLink.innerHTML = docLinkHtml;\n",
              "          element.appendChild(docLink);\n",
              "        }\n",
              "      </script>\n",
              "    </div>\n",
              "  </div>\n",
              "  "
            ]
          },
          "metadata": {},
          "execution_count": 14
        }
      ],
      "source": [
        "print(yed.shape)\n",
        "yed.head()"
      ]
    },
    {
      "cell_type": "code",
      "execution_count": 15,
      "metadata": {
        "id": "738ebc3b"
      },
      "outputs": [],
      "source": [
        "yedn = yed.to_numpy()\n"
      ]
    },
    {
      "cell_type": "code",
      "execution_count": 16,
      "metadata": {
        "colab": {
          "base_uri": "https://localhost:8080/"
        },
        "id": "a767a663",
        "outputId": "c3e6f6b4-f421-463f-c10c-4ba1d72a2608"
      },
      "outputs": [
        {
          "output_type": "execute_result",
          "data": {
            "text/plain": [
              "(10466, 200)"
            ]
          },
          "metadata": {},
          "execution_count": 16
        }
      ],
      "source": [
        "yedn.shape"
      ]
    },
    {
      "cell_type": "code",
      "execution_count": 17,
      "metadata": {
        "id": "d74bc183"
      },
      "outputs": [],
      "source": [
        "yedn = np.reshape(yedn,(yedn.shape[0], 1, yedn.shape[1]))"
      ]
    },
    {
      "cell_type": "code",
      "execution_count": 18,
      "metadata": {
        "colab": {
          "base_uri": "https://localhost:8080/"
        },
        "id": "4d4d4403",
        "outputId": "fb17b46d-8276-4824-ae02-d254cfe1c201"
      },
      "outputs": [
        {
          "output_type": "execute_result",
          "data": {
            "text/plain": [
              "(10466, 1, 200)"
            ]
          },
          "metadata": {},
          "execution_count": 18
        }
      ],
      "source": [
        "yedn.shape"
      ]
    },
    {
      "cell_type": "code",
      "execution_count": 19,
      "metadata": {
        "id": "220de712"
      },
      "outputs": [],
      "source": [
        "y = df[[\"label_f\", \"label_h\", \"label_s\"]]"
      ]
    },
    {
      "cell_type": "code",
      "execution_count": 20,
      "metadata": {
        "id": "cfa4f86f"
      },
      "outputs": [],
      "source": [
        "y = y.values"
      ]
    },
    {
      "cell_type": "code",
      "execution_count": 21,
      "metadata": {
        "colab": {
          "base_uri": "https://localhost:8080/"
        },
        "id": "5b1a9c33",
        "outputId": "6476ba42-939c-45ce-e91d-ab328474e351"
      },
      "outputs": [
        {
          "output_type": "execute_result",
          "data": {
            "text/plain": [
              "array([[1, 0, 0],\n",
              "       [0, 0, 0],\n",
              "       [0, 0, 0],\n",
              "       ...,\n",
              "       [0, 0, 0],\n",
              "       [0, 0, 1],\n",
              "       [0, 0, 0]])"
            ]
          },
          "metadata": {},
          "execution_count": 21
        }
      ],
      "source": [
        "y"
      ]
    },
    {
      "cell_type": "code",
      "execution_count": 22,
      "metadata": {
        "id": "60961795"
      },
      "outputs": [],
      "source": [
        "x_traind, x_testd, y_traind, y_testd = train_test_split(yedn,y, test_size=0.15, random_state= 41)"
      ]
    },
    {
      "cell_type": "code",
      "execution_count": 23,
      "metadata": {
        "colab": {
          "base_uri": "https://localhost:8080/"
        },
        "id": "920548ce",
        "outputId": "80096ae0-3702-4e3b-c98d-a8b284d06da8"
      },
      "outputs": [
        {
          "output_type": "execute_result",
          "data": {
            "text/plain": [
              "array([[0, 1, 0],\n",
              "       [0, 0, 0],\n",
              "       [1, 0, 1],\n",
              "       ...,\n",
              "       [1, 0, 0],\n",
              "       [1, 0, 0],\n",
              "       [1, 1, 0]])"
            ]
          },
          "metadata": {},
          "execution_count": 23
        }
      ],
      "source": [
        "y_traind"
      ]
    },
    {
      "cell_type": "markdown",
      "metadata": {
        "id": "0a07ce9d"
      },
      "source": [
        "# **Lstm Model using softmax**"
      ]
    },
    {
      "cell_type": "code",
      "execution_count": 71,
      "metadata": {
        "colab": {
          "base_uri": "https://localhost:8080/"
        },
        "id": "d8cbf45b",
        "outputId": "b7168893-d774-464a-e200-1a85e21a869b"
      },
      "outputs": [
        {
          "output_type": "stream",
          "name": "stdout",
          "text": [
            "Model: \"sequential_4\"\n",
            "_________________________________________________________________\n",
            " Layer (type)                Output Shape              Param #   \n",
            "=================================================================\n",
            " lstm_8 (LSTM)               (None, 1, 200)            320800    \n",
            "                                                                 \n",
            " dropout_8 (Dropout)         (None, 1, 200)            0         \n",
            "                                                                 \n",
            " lstm_9 (LSTM)               (None, 128)               168448    \n",
            "                                                                 \n",
            " dropout_9 (Dropout)         (None, 128)               0         \n",
            "                                                                 \n",
            " dense_12 (Dense)            (None, 3)                 387       \n",
            "                                                                 \n",
            "=================================================================\n",
            "Total params: 489,635\n",
            "Trainable params: 489,635\n",
            "Non-trainable params: 0\n",
            "_________________________________________________________________\n"
          ]
        }
      ],
      "source": [
        "model1 = Sequential()\n",
        "model1.add(LSTM(200,input_shape=(1,200),return_sequences=True))\n",
        "model1.add(Dropout(0.3))\n",
        "model1.add(LSTM(128, return_sequences=False,activation='relu'))\n",
        "model1.add(Dropout(0.3))\n",
        "model1.add(Dense(3, activation='softmax'))\n",
        "model1.compile(loss=\"binary_crossentropy\", optimizer = 'adam', metrics = ['accuracy'])\n",
        "model1.summary()"
      ]
    },
    {
      "cell_type": "code",
      "execution_count": 72,
      "metadata": {
        "colab": {
          "base_uri": "https://localhost:8080/",
          "height": 644
        },
        "id": "5ivYQWa7lqro",
        "outputId": "237bbfe1-d9fc-4230-909c-2294a6b6ce1f"
      },
      "outputs": [
        {
          "output_type": "execute_result",
          "data": {
            "text/plain": [
              "<IPython.core.display.Image object>"
            ],
            "image/png": "[encoded data removed]"
          },
          "metadata": {},
          "execution_count": 72
        }
      ],
      "source": [
        "plot_model(model1,show_layer_names=True,show_shapes=True)"
      ]
    },
    {
      "cell_type": "code",
      "execution_count": 73,
      "metadata": {
        "colab": {
          "base_uri": "https://localhost:8080/"
        },
        "id": "a6NZwK2dtQqh",
        "outputId": "cb305a39-fa4f-4978-b122-baaeb9ed89c3"
      },
      "outputs": [
        {
          "output_type": "stream",
          "name": "stdout",
          "text": [
            "Epoch 1/30\n",
            "56/56 [==============================] - 11s 54ms/step - loss: 0.6254 - accuracy: 0.7960 - val_loss: 0.5835 - val_accuracy: 0.8045\n",
            "Epoch 2/30\n",
            "56/56 [==============================] - 2s 28ms/step - loss: 0.5805 - accuracy: 0.8040 - val_loss: 0.5573 - val_accuracy: 0.8045\n",
            "Epoch 3/30\n",
            "56/56 [==============================] - 2s 29ms/step - loss: 0.5544 - accuracy: 0.7995 - val_loss: 0.5382 - val_accuracy: 0.7983\n",
            "Epoch 4/30\n",
            "56/56 [==============================] - 2s 31ms/step - loss: 0.5420 - accuracy: 0.7903 - val_loss: 0.5270 - val_accuracy: 0.7702\n",
            "Epoch 5/30\n",
            "56/56 [==============================] - 2s 27ms/step - loss: 0.5322 - accuracy: 0.7702 - val_loss: 0.5161 - val_accuracy: 0.7528\n",
            "Epoch 6/30\n",
            "56/56 [==============================] - 2s 29ms/step - loss: 0.5253 - accuracy: 0.7531 - val_loss: 0.5085 - val_accuracy: 0.7624\n",
            "Epoch 7/30\n",
            "56/56 [==============================] - 2s 30ms/step - loss: 0.5186 - accuracy: 0.7570 - val_loss: 0.5054 - val_accuracy: 0.7230\n",
            "Epoch 8/30\n",
            "56/56 [==============================] - 2s 27ms/step - loss: 0.5136 - accuracy: 0.7449 - val_loss: 0.4993 - val_accuracy: 0.7494\n",
            "Epoch 9/30\n",
            "56/56 [==============================] - 2s 29ms/step - loss: 0.5098 - accuracy: 0.7400 - val_loss: 0.4996 - val_accuracy: 0.7725\n",
            "Epoch 10/30\n",
            "56/56 [==============================] - 2s 31ms/step - loss: 0.5065 - accuracy: 0.7463 - val_loss: 0.4949 - val_accuracy: 0.7522\n",
            "Epoch 11/30\n",
            "56/56 [==============================] - 2s 39ms/step - loss: 0.5036 - accuracy: 0.7410 - val_loss: 0.4938 - val_accuracy: 0.7483\n",
            "Epoch 12/30\n",
            "56/56 [==============================] - 1s 26ms/step - loss: 0.5005 - accuracy: 0.7410 - val_loss: 0.4924 - val_accuracy: 0.7461\n",
            "Epoch 13/30\n",
            "56/56 [==============================] - 1s 20ms/step - loss: 0.4988 - accuracy: 0.7322 - val_loss: 0.4897 - val_accuracy: 0.7539\n",
            "Epoch 14/30\n",
            "56/56 [==============================] - 1s 20ms/step - loss: 0.4960 - accuracy: 0.7440 - val_loss: 0.4899 - val_accuracy: 0.7449\n",
            "Epoch 15/30\n",
            "56/56 [==============================] - 1s 20ms/step - loss: 0.4966 - accuracy: 0.7395 - val_loss: 0.4897 - val_accuracy: 0.7556\n",
            "Epoch 16/30\n",
            "56/56 [==============================] - 1s 20ms/step - loss: 0.4949 - accuracy: 0.7371 - val_loss: 0.4882 - val_accuracy: 0.7174\n",
            "Epoch 17/30\n",
            "56/56 [==============================] - 1s 20ms/step - loss: 0.4927 - accuracy: 0.7375 - val_loss: 0.4891 - val_accuracy: 0.7051\n",
            "Epoch 18/30\n",
            "56/56 [==============================] - 1s 20ms/step - loss: 0.4919 - accuracy: 0.7331 - val_loss: 0.4910 - val_accuracy: 0.7601\n",
            "Epoch 19/30\n",
            "56/56 [==============================] - 1s 20ms/step - loss: 0.4902 - accuracy: 0.7404 - val_loss: 0.4860 - val_accuracy: 0.7573\n",
            "Epoch 20/30\n",
            "56/56 [==============================] - 1s 20ms/step - loss: 0.4890 - accuracy: 0.7354 - val_loss: 0.4860 - val_accuracy: 0.7410\n",
            "Epoch 21/30\n",
            "56/56 [==============================] - 1s 20ms/step - loss: 0.4874 - accuracy: 0.7382 - val_loss: 0.4878 - val_accuracy: 0.7500\n",
            "Epoch 22/30\n",
            "56/56 [==============================] - 1s 19ms/step - loss: 0.4869 - accuracy: 0.7461 - val_loss: 0.4855 - val_accuracy: 0.7320\n",
            "Epoch 23/30\n",
            "56/56 [==============================] - 1s 19ms/step - loss: 0.4851 - accuracy: 0.7337 - val_loss: 0.4872 - val_accuracy: 0.7483\n",
            "Epoch 24/30\n",
            "56/56 [==============================] - 1s 19ms/step - loss: 0.4832 - accuracy: 0.7463 - val_loss: 0.4840 - val_accuracy: 0.7315\n",
            "Epoch 25/30\n",
            "56/56 [==============================] - 1s 21ms/step - loss: 0.4834 - accuracy: 0.7435 - val_loss: 0.4844 - val_accuracy: 0.7331\n",
            "Epoch 26/30\n",
            "56/56 [==============================] - 1s 20ms/step - loss: 0.4816 - accuracy: 0.7478 - val_loss: 0.4835 - val_accuracy: 0.7404\n",
            "Epoch 27/30\n",
            "56/56 [==============================] - 1s 21ms/step - loss: 0.4807 - accuracy: 0.7466 - val_loss: 0.4830 - val_accuracy: 0.7472\n",
            "Epoch 28/30\n",
            "56/56 [==============================] - 1s 20ms/step - loss: 0.4804 - accuracy: 0.7451 - val_loss: 0.4821 - val_accuracy: 0.7472\n",
            "Epoch 29/30\n",
            "56/56 [==============================] - 1s 20ms/step - loss: 0.4767 - accuracy: 0.7506 - val_loss: 0.4821 - val_accuracy: 0.7236\n",
            "Epoch 30/30\n",
            "56/56 [==============================] - 1s 20ms/step - loss: 0.4777 - accuracy: 0.7459 - val_loss: 0.4821 - val_accuracy: 0.7309\n"
          ]
        }
      ],
      "source": [
        "history = model1.fit(x_traind,y_traind, epochs=30, batch_size=128, validation_split=0.2)"
      ]
    },
    {
      "cell_type": "code",
      "execution_count": 74,
      "metadata": {
        "id": "VPMILdg1twnJ"
      },
      "outputs": [],
      "source": [
        "y_generated = model1.predict(x_testd)"
      ]
    },
    {
      "cell_type": "code",
      "execution_count": 75,
      "metadata": {
        "colab": {
          "base_uri": "https://localhost:8080/"
        },
        "id": "B1O3mRlgtyvA",
        "outputId": "ab1694f9-f48d-4dee-ffb7-4cb9b6877332"
      },
      "outputs": [
        {
          "output_type": "execute_result",
          "data": {
            "text/plain": [
              "array([[5.9326744e-01, 4.0368834e-01, 3.0441219e-03],\n",
              "       [2.5128493e-01, 4.0313316e-05, 7.4867475e-01],\n",
              "       [9.9091327e-01, 5.2733789e-04, 8.5594291e-03],\n",
              "       ...,\n",
              "       [8.3377343e-01, 1.0387770e-01, 6.2348913e-02],\n",
              "       [9.7816879e-01, 2.0950589e-02, 8.8065997e-04],\n",
              "       [7.8805047e-01, 1.3325542e-01, 7.8694157e-02]], dtype=float32)"
            ]
          },
          "metadata": {},
          "execution_count": 75
        }
      ],
      "source": [
        "y_generated"
      ]
    },
    {
      "cell_type": "code",
      "execution_count": 75,
      "metadata": {
        "id": "bI1iFF2XeNHk"
      },
      "outputs": [],
      "source": [
        ""
      ]
    },
    {
      "cell_type": "markdown",
      "metadata": {
        "id": "dbupR6HFeOE2"
      },
      "source": [
        "# **Lstm Model using Sigmoid**"
      ]
    },
    {
      "cell_type": "code",
      "execution_count": 76,
      "metadata": {
        "colab": {
          "base_uri": "https://localhost:8080/"
        },
        "id": "jsPT5nwleOE2",
        "outputId": "08e882b2-c386-4650-e549-5c00660373d5"
      },
      "outputs": [
        {
          "output_type": "stream",
          "name": "stdout",
          "text": [
            "Model: \"sequential_5\"\n",
            "_________________________________________________________________\n",
            " Layer (type)                Output Shape              Param #   \n",
            "=================================================================\n",
            " lstm_10 (LSTM)              (None, 1, 200)            320800    \n",
            "                                                                 \n",
            " dropout_10 (Dropout)        (None, 1, 200)            0         \n",
            "                                                                 \n",
            " lstm_11 (LSTM)              (None, 128)               168448    \n",
            "                                                                 \n",
            " dropout_11 (Dropout)        (None, 128)               0         \n",
            "                                                                 \n",
            " dense_13 (Dense)            (None, 3)                 387       \n",
            "                                                                 \n",
            "=================================================================\n",
            "Total params: 489,635\n",
            "Trainable params: 489,635\n",
            "Non-trainable params: 0\n",
            "_________________________________________________________________\n"
          ]
        }
      ],
      "source": [
        "model2 = Sequential()\n",
        "model2.add(LSTM(200,input_shape=(1,200),return_sequences=True))\n",
        "model2.add(Dropout(0.3))\n",
        "model2.add(LSTM(128, return_sequences=False,activation='relu'))\n",
        "model2.add(Dropout(0.3))\n",
        "model2.add(Dense(3, activation='sigmoid'))\n",
        "model2.compile(loss=\"binary_crossentropy\", optimizer = 'adam', metrics = ['accuracy'])\n",
        "model2.summary()"
      ]
    },
    {
      "cell_type": "code",
      "execution_count": 77,
      "metadata": {
        "colab": {
          "base_uri": "https://localhost:8080/",
          "height": 0
        },
        "id": "-RvsY7qZeOE3",
        "outputId": "92b60f13-ecf8-42f3-a03b-1d3369493404"
      },
      "outputs": [
        {
          "output_type": "execute_result",
          "data": {
            "text/plain": [
              "<IPython.core.display.Image object>"
            ],
            "image/png": "[encoded data removed]"
          },
          "metadata": {},
          "execution_count": 77
        }
      ],
      "source": [
        "plot_model(model2,show_layer_names=True,show_shapes=True)"
      ]
    },
    {
      "cell_type": "code",
      "execution_count": 78,
      "metadata": {
        "colab": {
          "base_uri": "https://localhost:8080/"
        },
        "id": "oOGs3XireOE3",
        "outputId": "957ddae7-8737-49ef-ddc5-69eb51a79f9d"
      },
      "outputs": [
        {
          "output_type": "stream",
          "name": "stdout",
          "text": [
            "Epoch 1/30\n",
            "56/56 [==============================] - 5s 34ms/step - loss: 0.6297 - accuracy: 0.7899 - val_loss: 0.5856 - val_accuracy: 0.8045\n",
            "Epoch 2/30\n",
            "56/56 [==============================] - 1s 22ms/step - loss: 0.5852 - accuracy: 0.8040 - val_loss: 0.5640 - val_accuracy: 0.8045\n",
            "Epoch 3/30\n",
            "56/56 [==============================] - 1s 20ms/step - loss: 0.5577 - accuracy: 0.8004 - val_loss: 0.5393 - val_accuracy: 0.7933\n",
            "Epoch 4/30\n",
            "56/56 [==============================] - 1s 20ms/step - loss: 0.5432 - accuracy: 0.7870 - val_loss: 0.5291 - val_accuracy: 0.7607\n",
            "Epoch 5/30\n",
            "56/56 [==============================] - 1s 20ms/step - loss: 0.5344 - accuracy: 0.7728 - val_loss: 0.5195 - val_accuracy: 0.7629\n",
            "Epoch 6/30\n",
            "56/56 [==============================] - 1s 20ms/step - loss: 0.5253 - accuracy: 0.7594 - val_loss: 0.5092 - val_accuracy: 0.7416\n",
            "Epoch 7/30\n",
            "56/56 [==============================] - 1s 20ms/step - loss: 0.5196 - accuracy: 0.7472 - val_loss: 0.5034 - val_accuracy: 0.7433\n",
            "Epoch 8/30\n",
            "56/56 [==============================] - 1s 20ms/step - loss: 0.5126 - accuracy: 0.7510 - val_loss: 0.5012 - val_accuracy: 0.7315\n",
            "Epoch 9/30\n",
            "56/56 [==============================] - 1s 21ms/step - loss: 0.5105 - accuracy: 0.7427 - val_loss: 0.4973 - val_accuracy: 0.7461\n",
            "Epoch 10/30\n",
            "56/56 [==============================] - 1s 20ms/step - loss: 0.5081 - accuracy: 0.7458 - val_loss: 0.4967 - val_accuracy: 0.7371\n",
            "Epoch 11/30\n",
            "56/56 [==============================] - 1s 20ms/step - loss: 0.5042 - accuracy: 0.7374 - val_loss: 0.4946 - val_accuracy: 0.7298\n",
            "Epoch 12/30\n",
            "56/56 [==============================] - 1s 20ms/step - loss: 0.5019 - accuracy: 0.7366 - val_loss: 0.4918 - val_accuracy: 0.7590\n",
            "Epoch 13/30\n",
            "56/56 [==============================] - 1s 21ms/step - loss: 0.4990 - accuracy: 0.7431 - val_loss: 0.4909 - val_accuracy: 0.7337\n",
            "Epoch 14/30\n",
            "56/56 [==============================] - 1s 20ms/step - loss: 0.4990 - accuracy: 0.7395 - val_loss: 0.4931 - val_accuracy: 0.7348\n",
            "Epoch 15/30\n",
            "56/56 [==============================] - 1s 21ms/step - loss: 0.4979 - accuracy: 0.7396 - val_loss: 0.4887 - val_accuracy: 0.7399\n",
            "Epoch 16/30\n",
            "56/56 [==============================] - 1s 20ms/step - loss: 0.4942 - accuracy: 0.7330 - val_loss: 0.4876 - val_accuracy: 0.7545\n",
            "Epoch 17/30\n",
            "56/56 [==============================] - 1s 21ms/step - loss: 0.4924 - accuracy: 0.7459 - val_loss: 0.4874 - val_accuracy: 0.7230\n",
            "Epoch 18/30\n",
            "56/56 [==============================] - 1s 21ms/step - loss: 0.4910 - accuracy: 0.7354 - val_loss: 0.4926 - val_accuracy: 0.7225\n",
            "Epoch 19/30\n",
            "56/56 [==============================] - 1s 21ms/step - loss: 0.4892 - accuracy: 0.7438 - val_loss: 0.4864 - val_accuracy: 0.7225\n",
            "Epoch 20/30\n",
            "56/56 [==============================] - 1s 21ms/step - loss: 0.4875 - accuracy: 0.7369 - val_loss: 0.4869 - val_accuracy: 0.7169\n",
            "Epoch 21/30\n",
            "56/56 [==============================] - 1s 21ms/step - loss: 0.4875 - accuracy: 0.7381 - val_loss: 0.4854 - val_accuracy: 0.7140\n",
            "Epoch 22/30\n",
            "56/56 [==============================] - 1s 22ms/step - loss: 0.4861 - accuracy: 0.7383 - val_loss: 0.4852 - val_accuracy: 0.7152\n",
            "Epoch 23/30\n",
            "56/56 [==============================] - 1s 20ms/step - loss: 0.4848 - accuracy: 0.7397 - val_loss: 0.4842 - val_accuracy: 0.7315\n",
            "Epoch 24/30\n",
            "56/56 [==============================] - 1s 20ms/step - loss: 0.4856 - accuracy: 0.7448 - val_loss: 0.4843 - val_accuracy: 0.7427\n",
            "Epoch 25/30\n",
            "56/56 [==============================] - 1s 21ms/step - loss: 0.4821 - accuracy: 0.7462 - val_loss: 0.4829 - val_accuracy: 0.7320\n",
            "Epoch 26/30\n",
            "56/56 [==============================] - 1s 21ms/step - loss: 0.4814 - accuracy: 0.7455 - val_loss: 0.4838 - val_accuracy: 0.7163\n",
            "Epoch 27/30\n",
            "56/56 [==============================] - 1s 20ms/step - loss: 0.4797 - accuracy: 0.7508 - val_loss: 0.4827 - val_accuracy: 0.7444\n",
            "Epoch 28/30\n",
            "56/56 [==============================] - 1s 21ms/step - loss: 0.4810 - accuracy: 0.7438 - val_loss: 0.4853 - val_accuracy: 0.7545\n",
            "Epoch 29/30\n",
            "56/56 [==============================] - 1s 20ms/step - loss: 0.4791 - accuracy: 0.7399 - val_loss: 0.4834 - val_accuracy: 0.7444\n",
            "Epoch 30/30\n",
            "56/56 [==============================] - 1s 20ms/step - loss: 0.4768 - accuracy: 0.7528 - val_loss: 0.4814 - val_accuracy: 0.7511\n"
          ]
        }
      ],
      "source": [
        "history = model2.fit(x_traind,y_traind, epochs=30, batch_size=128, validation_split=0.2)"
      ]
    },
    {
      "cell_type": "code",
      "execution_count": 79,
      "metadata": {
        "id": "71WTBozNeOE3"
      },
      "outputs": [],
      "source": [
        "y_generated1 = model2.predict(x_testd)"
      ]
    },
    {
      "cell_type": "code",
      "execution_count": 80,
      "metadata": {
        "colab": {
          "base_uri": "https://localhost:8080/"
        },
        "id": "QhdT879neOE3",
        "outputId": "2f8837cd-bff3-4204-8106-a0826682aba1"
      },
      "outputs": [
        {
          "output_type": "execute_result",
          "data": {
            "text/plain": [
              "array([[7.5134039e-01, 6.9726145e-01, 1.0859072e-02],\n",
              "       [5.1981753e-01, 1.6319752e-04, 7.6845044e-01],\n",
              "       [9.4787157e-01, 8.8786185e-03, 1.2001163e-01],\n",
              "       ...,\n",
              "       [7.9040444e-01, 2.7595979e-01, 1.7124683e-01],\n",
              "       [8.7692976e-01, 1.3808250e-01, 3.1522512e-03],\n",
              "       [7.0398647e-01, 2.5936699e-01, 1.4395720e-01]], dtype=float32)"
            ]
          },
          "metadata": {},
          "execution_count": 80
        }
      ],
      "source": [
        "y_generated1"
      ]
    },
    {
      "cell_type": "markdown",
      "metadata": {
        "id": "k20UKaJdz4F3"
      },
      "source": [
        "# **Prediction and cm functions**"
      ]
    },
    {
      "cell_type": "code",
      "source": [
        "def accuracy(sub_df,test_dff):\n",
        "  pred1 = sub_df\n",
        "  print('Predicted Values')\n",
        "  print(pred1)\n",
        "  y_pred = []\n",
        "  for sample in  pred1:\n",
        "    y_pred.append([1 if i>=0.5 else 0 for i in sample ] )\n",
        "  y_pred = np.array(y_pred)\n",
        "  print('Predicted Labels')\n",
        "  print(y_pred)\n",
        "  print('Accuracy Score:' + str(accuracy_score(np.array(y_pred),np.array(test_dff))))"
      ],
      "metadata": {
        "id": "jUzwhGsGP_7k"
      },
      "execution_count": 81,
      "outputs": []
    },
    {
      "cell_type": "code",
      "execution_count": 82,
      "metadata": {
        "id": "rZ5H243-trz2"
      },
      "outputs": [],
      "source": [
        "def classification__report(y_generated,y_test):\n",
        "  y_pred=[]\n",
        "  for sample in  y_generated:\n",
        "    y_pred.append([1 if i>=0.5 else 0 for i in sample ] )\n",
        "  y_pred = np.array(y_pred)\n",
        "  y_pred\n",
        "  print(multilabel_confusion_matrix(y_test, y_pred))\n",
        "  label_names = ['Label Fake','Label Hate','Label Sentiment']\n",
        "  print(classification_report(y_test, y_pred,target_names=label_names))"
      ]
    },
    {
      "cell_type": "code",
      "execution_count": 83,
      "metadata": {
        "id": "PF63zBu1u5oG"
      },
      "outputs": [],
      "source": [
        "def get_list(l2,k,len2):\n",
        "  k1 = []\n",
        "  for i in range(len2):\n",
        "    k1.append(l2[i][k])\n",
        "  return k1"
      ]
    },
    {
      "cell_type": "code",
      "execution_count": 84,
      "metadata": {
        "id": "4429f192"
      },
      "outputs": [],
      "source": [
        "def prediction(y_generated):\n",
        "  len1 = y_generated.shape[0]\n",
        "  l2 = []\n",
        "  for i in range(len1):\n",
        "    l1 = []\n",
        "    for j in range(3):\n",
        "            if y_generated[i][j] <0.5:\n",
        "                l1.append(0)\n",
        "            else:\n",
        "                l1.append(1)\n",
        "    l2.append(l1)\n",
        "  l2=np.array(l2)\n",
        "  print(l2)\n",
        "  len2 = l2.shape[0]\n",
        "  f1 = get_list(l2,0,len2)\n",
        "  h1 = get_list(l2,1,len2)\n",
        "  s1 = get_list(l2,2,len2)\n",
        "  return f1,h1,s1"
      ]
    },
    {
      "cell_type": "code",
      "execution_count": 85,
      "metadata": {
        "id": "cwDr6KqE0Jl0"
      },
      "outputs": [],
      "source": [
        "def cm_df(k1_t,k1,name,cmap):\n",
        "  print('                                  '  +name )\n",
        "  cm = confusion_matrix(k1_t,k1,labels=[0,1])\n",
        "  cm_df = pd.DataFrame(cm,index = ['0','1'],\n",
        "                     columns = ['0','1'])\n",
        "  plt.figure(figsize=(10,5))\n",
        "  sns.heatmap(cm_df, annot=True, fmt=\"d\", cmap=cmap)\n",
        "  plt.title('lstm_model:{0:.3f}'.format(accuracy_score(k1_t,k1)))\n",
        "  plt.ylabel('True Label')\n",
        "  plt.xlabel('Predicted Label')\n",
        "  plt.show()\n",
        "  print('                                  ')\n",
        "  print('                                  ')\n",
        "  print('                                  ')"
      ]
    },
    {
      "cell_type": "code",
      "execution_count": 86,
      "metadata": {
        "id": "pOZPglg-0lZ9"
      },
      "outputs": [],
      "source": [
        "def testing(y_generated,y_test):\n",
        "  f1_t = get_list(y_testd,0,y_testd.shape[0])\n",
        "  h1_t = get_list(y_testd,1,y_testd.shape[0])\n",
        "  s1_t = get_list(y_testd,2,y_testd.shape[0])\n",
        "  f1,h1,s1 = prediction(y_generated)\n",
        "\n",
        "  cm_df(f1_t,f1,'Fake','gist_heat')\n",
        "  cm_df(h1_t,h1,'Hate','YlOrRd')\n",
        "  cm_df(s1_t,s1,'Sentiment','PuBu')"
      ]
    },
    {
      "cell_type": "code",
      "execution_count": 87,
      "metadata": {
        "colab": {
          "base_uri": "https://localhost:8080/"
        },
        "id": "WGTvzmluro4I",
        "outputId": "c7c1f442-6b20-4946-dd19-0d7e96a57d22"
      },
      "outputs": [
        {
          "output_type": "stream",
          "name": "stdout",
          "text": [
            "[[[ 276  310]\n",
            "  [ 203  781]]\n",
            "\n",
            " [[1224   71]\n",
            "  [ 221   54]]\n",
            "\n",
            " [[ 946   75]\n",
            "  [ 422  127]]]\n",
            "                 precision    recall  f1-score   support\n",
            "\n",
            "     Label Fake       0.72      0.79      0.75       984\n",
            "     Label Hate       0.43      0.20      0.27       275\n",
            "Label Sentiment       0.63      0.23      0.34       549\n",
            "\n",
            "      micro avg       0.68      0.53      0.60      1808\n",
            "      macro avg       0.59      0.41      0.45      1808\n",
            "   weighted avg       0.65      0.53      0.55      1808\n",
            "    samples avg       0.61      0.47      0.52      1808\n",
            "\n"
          ]
        },
        {
          "output_type": "stream",
          "name": "stderr",
          "text": [
            "/usr/local/lib/python3.7/dist-packages/sklearn/metrics/_classification.py:1318: UndefinedMetricWarning: Precision and F-score are ill-defined and being set to 0.0 in samples with no predicted labels. Use `zero_division` parameter to control this behavior.\n",
            "  _warn_prf(average, modifier, msg_start, len(result))\n",
            "/usr/local/lib/python3.7/dist-packages/sklearn/metrics/_classification.py:1318: UndefinedMetricWarning: Recall and F-score are ill-defined and being set to 0.0 in samples with no true labels. Use `zero_division` parameter to control this behavior.\n",
            "  _warn_prf(average, modifier, msg_start, len(result))\n"
          ]
        }
      ],
      "source": [
        "classification__report(y_generated,y_testd)\n"
      ]
    },
    {
      "cell_type": "code",
      "execution_count": 88,
      "metadata": {
        "colab": {
          "base_uri": "https://localhost:8080/",
          "height": 1000
        },
        "id": "ViHg_BGN3mdJ",
        "outputId": "83597db1-db4e-4deb-acc3-6b0a24a5bd53"
      },
      "outputs": [
        {
          "output_type": "stream",
          "name": "stdout",
          "text": [
            "[[1 0 0]\n",
            " [0 0 1]\n",
            " [1 0 0]\n",
            " ...\n",
            " [1 0 0]\n",
            " [1 0 0]\n",
            " [1 0 0]]\n",
            "                                  Fake\n"
          ]
        },
        {
          "output_type": "display_data",
          "data": {
            "text/plain": [
              "<Figure size 720x360 with 2 Axes>"
            ],
            "image/png": "[encoded data removed]"
          },
          "metadata": {
            "needs_background": "light"
          }
        },
        {
          "output_type": "stream",
          "name": "stdout",
          "text": [
            "                                  \n",
            "                                  \n",
            "                                  \n",
            "                                  Hate\n"
          ]
        },
        {
          "output_type": "display_data",
          "data": {
            "text/plain": [
              "<Figure size 720x360 with 2 Axes>"
            ],
            "image/png": "[encoded data removed]"
          },
          "metadata": {
            "needs_background": "light"
          }
        },
        {
          "output_type": "stream",
          "name": "stdout",
          "text": [
            "                                  \n",
            "                                  \n",
            "                                  \n",
            "                                  Sentiment\n"
          ]
        },
        {
          "output_type": "display_data",
          "data": {
            "text/plain": [
              "<Figure size 720x360 with 2 Axes>"
            ],
            "image/png": "[encoded data removed]"
          },
          "metadata": {
            "needs_background": "light"
          }
        },
        {
          "output_type": "stream",
          "name": "stdout",
          "text": [
            "                                  \n",
            "                                  \n",
            "                                  \n"
          ]
        }
      ],
      "source": [
        "testing(y_generated,y_testd)"
      ]
    },
    {
      "cell_type": "code",
      "source": [
        "accuracy(y_generated,y_testd)"
      ],
      "metadata": {
        "colab": {
          "base_uri": "https://localhost:8080/"
        },
        "id": "OaEvi6ThQOHk",
        "outputId": "d7c28aab-80f7-44c0-aafa-ee19e9fe454c"
      },
      "execution_count": 89,
      "outputs": [
        {
          "output_type": "stream",
          "name": "stdout",
          "text": [
            "Predicted Values\n",
            "[[5.9326744e-01 4.0368834e-01 3.0441219e-03]\n",
            " [2.5128493e-01 4.0313316e-05 7.4867475e-01]\n",
            " [9.9091327e-01 5.2733789e-04 8.5594291e-03]\n",
            " ...\n",
            " [8.3377343e-01 1.0387770e-01 6.2348913e-02]\n",
            " [9.7816879e-01 2.0950589e-02 8.8065997e-04]\n",
            " [7.8805047e-01 1.3325542e-01 7.8694157e-02]]\n",
            "Predicted Labels\n",
            "[[1 0 0]\n",
            " [0 0 1]\n",
            " [1 0 0]\n",
            " ...\n",
            " [1 0 0]\n",
            " [1 0 0]\n",
            " [1 0 0]]\n",
            "Accuracy Score:0.364968152866242\n"
          ]
        }
      ]
    },
    {
      "cell_type": "code",
      "execution_count": 90,
      "metadata": {
        "colab": {
          "base_uri": "https://localhost:8080/"
        },
        "id": "f6ffd6c8",
        "outputId": "244d12de-a411-4bc9-963b-87fb1da5c06a"
      },
      "outputs": [
        {
          "output_type": "stream",
          "name": "stdout",
          "text": [
            "[[[ 249  337]\n",
            "  [ 152  832]]\n",
            "\n",
            " [[1240   55]\n",
            "  [ 228   47]]\n",
            "\n",
            " [[ 863  158]\n",
            "  [ 300  249]]]\n",
            "                 precision    recall  f1-score   support\n",
            "\n",
            "     Label Fake       0.71      0.85      0.77       984\n",
            "     Label Hate       0.46      0.17      0.25       275\n",
            "Label Sentiment       0.61      0.45      0.52       549\n",
            "\n",
            "      micro avg       0.67      0.62      0.65      1808\n",
            "      macro avg       0.59      0.49      0.51      1808\n",
            "   weighted avg       0.64      0.62      0.62      1808\n",
            "    samples avg       0.58      0.53      0.53      1808\n",
            "\n"
          ]
        },
        {
          "output_type": "stream",
          "name": "stderr",
          "text": [
            "/usr/local/lib/python3.7/dist-packages/sklearn/metrics/_classification.py:1318: UndefinedMetricWarning: Precision and F-score are ill-defined and being set to 0.0 in samples with no predicted labels. Use `zero_division` parameter to control this behavior.\n",
            "  _warn_prf(average, modifier, msg_start, len(result))\n",
            "/usr/local/lib/python3.7/dist-packages/sklearn/metrics/_classification.py:1318: UndefinedMetricWarning: Recall and F-score are ill-defined and being set to 0.0 in samples with no true labels. Use `zero_division` parameter to control this behavior.\n",
            "  _warn_prf(average, modifier, msg_start, len(result))\n"
          ]
        }
      ],
      "source": [
        "classification__report(y_generated1,y_testd)\n"
      ]
    },
    {
      "cell_type": "code",
      "execution_count": 91,
      "metadata": {
        "colab": {
          "base_uri": "https://localhost:8080/",
          "height": 1000
        },
        "id": "Z2dThW0dfyKq",
        "outputId": "703b8676-6788-42e2-d4d3-dd8444b29e79"
      },
      "outputs": [
        {
          "output_type": "stream",
          "name": "stdout",
          "text": [
            "[[1 1 0]\n",
            " [1 0 1]\n",
            " [1 0 0]\n",
            " ...\n",
            " [1 0 0]\n",
            " [1 0 0]\n",
            " [1 0 0]]\n",
            "                                  Fake\n"
          ]
        },
        {
          "output_type": "display_data",
          "data": {
            "text/plain": [
              "<Figure size 720x360 with 2 Axes>"
            ],
            "image/png": "[encoded data removed]"
          },
          "metadata": {
            "needs_background": "light"
          }
        },
        {
          "output_type": "stream",
          "name": "stdout",
          "text": [
            "                                  \n",
            "                                  \n",
            "                                  \n",
            "                                  Hate\n"
          ]
        },
        {
          "output_type": "display_data",
          "data": {
            "text/plain": [
              "<Figure size 720x360 with 2 Axes>"
            ],
            "image/png": "[encoded data removed]"
          },
          "metadata": {
            "needs_background": "light"
          }
        },
        {
          "output_type": "stream",
          "name": "stdout",
          "text": [
            "                                  \n",
            "                                  \n",
            "                                  \n",
            "                                  Sentiment\n"
          ]
        },
        {
          "output_type": "display_data",
          "data": {
            "text/plain": [
              "<Figure size 720x360 with 2 Axes>"
            ],
            "image/png": "[encoded data removed]"
          },
          "metadata": {
            "needs_background": "light"
          }
        },
        {
          "output_type": "stream",
          "name": "stdout",
          "text": [
            "                                  \n",
            "                                  \n",
            "                                  \n"
          ]
        }
      ],
      "source": [
        "testing(y_generated1,y_testd)"
      ]
    },
    {
      "cell_type": "code",
      "source": [
        "accuracy(y_generated1,y_testd)"
      ],
      "metadata": {
        "colab": {
          "base_uri": "https://localhost:8080/"
        },
        "id": "_HapnIl6RAtE",
        "outputId": "83a8cc4d-34bb-4810-fd4e-d87bc50d91ed"
      },
      "execution_count": 92,
      "outputs": [
        {
          "output_type": "stream",
          "name": "stdout",
          "text": [
            "Predicted Values\n",
            "[[7.5134039e-01 6.9726145e-01 1.0859072e-02]\n",
            " [5.1981753e-01 1.6319752e-04 7.6845044e-01]\n",
            " [9.4787157e-01 8.8786185e-03 1.2001163e-01]\n",
            " ...\n",
            " [7.9040444e-01 2.7595979e-01 1.7124683e-01]\n",
            " [8.7692976e-01 1.3808250e-01 3.1522512e-03]\n",
            " [7.0398647e-01 2.5936699e-01 1.4395720e-01]]\n",
            "Predicted Labels\n",
            "[[1 1 0]\n",
            " [1 0 1]\n",
            " [1 0 0]\n",
            " ...\n",
            " [1 0 0]\n",
            " [1 0 0]\n",
            " [1 0 0]]\n",
            "Accuracy Score:0.4070063694267516\n"
          ]
        }
      ]
    },
    {
      "cell_type": "code",
      "execution_count": 93,
      "metadata": {
        "id": "7f081231"
      },
      "outputs": [],
      "source": [
        "#df3['label'] = df3['label'].replace(2,0)"
      ]
    },
    {
      "cell_type": "code",
      "execution_count": 94,
      "metadata": {
        "id": "bd5f0be8"
      },
      "outputs": [],
      "source": [
        "#df3.to_csv('N_Sentiment.csv')"
      ]
    },
    {
      "cell_type": "code",
      "execution_count": 95,
      "metadata": {
        "id": "2453dae0"
      },
      "outputs": [],
      "source": [
        "#df3['label'].value_counts()"
      ]
    }
  ],
  "metadata": {
    "colab": {
      "name": "Multi_label_Text_Classification_using_Lstm.ipynb",
      "provenance": []
    },
    "kernelspec": {
      "display_name": "Python 3 (ipykernel)",
      "language": "python",
      "name": "python3"
    },
    "language_info": {
      "codemirror_mode": {
        "name": "ipython",
        "version": 3
      },
      "file_extension": ".py",
      "mimetype": "text/x-python",
      "name": "python",
      "nbconvert_exporter": "python",
      "pygments_lexer": "ipython3",
      "version": "3.9.7"
    }
  },
  "nbformat": 4,
  "nbformat_minor": 0
}