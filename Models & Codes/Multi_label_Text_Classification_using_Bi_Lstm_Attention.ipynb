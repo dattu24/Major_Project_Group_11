{
  "nbformat": 4,
  "nbformat_minor": 0,
  "metadata": {
    "colab": {
      "name": "Multi_label_Text_Classification_using_Bi-Lstm_Attention.ipynb",
      "provenance": [],
      "collapsed_sections": [
        "4Pr3bgGTbpXB",
        "kY4Rk66zoWYq",
        "9e08e49c",
        "ZNjgPTy1tKQ6",
        "QDgy9J1ljjAp"
      ]
    },
    "kernelspec": {
      "name": "python3",
      "display_name": "Python 3"
    },
    "language_info": {
      "name": "python"
    }
  },
  "cells": [
    {
      "cell_type": "code",
      "source": [
        "from google.colab import drive\n",
        "drive.mount('/content/gdrive')"
      ],
      "metadata": {
        "colab": {
          "base_uri": "https://localhost:8080/"
        },
        "id": "6hNIJzZ2ioyN",
        "outputId": "c48b7f1c-1ae7-4669-9d45-9fed6d15c4db"
      },
      "execution_count": 3,
      "outputs": [
        {
          "output_type": "stream",
          "name": "stdout",
          "text": [
            "Mounted at /content/gdrive\n"
          ]
        }
      ]
    },
    {
      "cell_type": "markdown",
      "metadata": {
        "id": "524b19c9"
      },
      "source": [
        "#  Importing Libraries"
      ]
    },
    {
      "cell_type": "code",
      "source": [
        "!pip install sentence_transformers"
      ],
      "metadata": {
        "id": "e82GwmyanQAz",
        "colab": {
          "base_uri": "https://localhost:8080/"
        },
        "outputId": "bc4b50db-70f0-423c-bbed-d848092740c4"
      },
      "execution_count": 1,
      "outputs": [
        {
          "output_type": "stream",
          "name": "stdout",
          "text": [
            "Collecting sentence_transformers\n",
            "  Downloading sentence-transformers-2.2.0.tar.gz (79 kB)\n",
            "\u001b[K     |████████████████████████████████| 79 kB 4.6 MB/s \n",
            "\u001b[?25hCollecting transformers<5.0.0,>=4.6.0\n",
            "  Downloading transformers-4.18.0-py3-none-any.whl (4.0 MB)\n",
            "\u001b[K     |████████████████████████████████| 4.0 MB 16.9 MB/s \n",
            "\u001b[?25hRequirement already satisfied: tqdm in /usr/local/lib/python3.7/dist-packages (from sentence_transformers) (4.64.0)\n",
            "Requirement already satisfied: torch>=1.6.0 in /usr/local/lib/python3.7/dist-packages (from sentence_transformers) (1.11.0+cu113)\n",
            "Requirement already satisfied: torchvision in /usr/local/lib/python3.7/dist-packages (from sentence_transformers) (0.12.0+cu113)\n",
            "Requirement already satisfied: numpy in /usr/local/lib/python3.7/dist-packages (from sentence_transformers) (1.21.6)\n",
            "Requirement already satisfied: scikit-learn in /usr/local/lib/python3.7/dist-packages (from sentence_transformers) (1.0.2)\n",
            "Requirement already satisfied: scipy in /usr/local/lib/python3.7/dist-packages (from sentence_transformers) (1.4.1)\n",
            "Requirement already satisfied: nltk in /usr/local/lib/python3.7/dist-packages (from sentence_transformers) (3.2.5)\n",
            "Collecting sentencepiece\n",
            "  Downloading sentencepiece-0.1.96-cp37-cp37m-manylinux_2_17_x86_64.manylinux2014_x86_64.whl (1.2 MB)\n",
            "\u001b[K     |████████████████████████████████| 1.2 MB 40.9 MB/s \n",
            "\u001b[?25hCollecting huggingface-hub\n",
            "  Downloading huggingface_hub-0.5.1-py3-none-any.whl (77 kB)\n",
            "\u001b[K     |████████████████████████████████| 77 kB 5.8 MB/s \n",
            "\u001b[?25hRequirement already satisfied: typing-extensions in /usr/local/lib/python3.7/dist-packages (from torch>=1.6.0->sentence_transformers) (4.2.0)\n",
            "Requirement already satisfied: regex!=2019.12.17 in /usr/local/lib/python3.7/dist-packages (from transformers<5.0.0,>=4.6.0->sentence_transformers) (2019.12.20)\n",
            "Collecting sacremoses\n",
            "  Downloading sacremoses-0.0.53.tar.gz (880 kB)\n",
            "\u001b[K     |████████████████████████████████| 880 kB 46.1 MB/s \n",
            "\u001b[?25hRequirement already satisfied: filelock in /usr/local/lib/python3.7/dist-packages (from transformers<5.0.0,>=4.6.0->sentence_transformers) (3.6.0)\n",
            "Requirement already satisfied: importlib-metadata in /usr/local/lib/python3.7/dist-packages (from transformers<5.0.0,>=4.6.0->sentence_transformers) (4.11.3)\n",
            "Requirement already satisfied: requests in /usr/local/lib/python3.7/dist-packages (from transformers<5.0.0,>=4.6.0->sentence_transformers) (2.23.0)\n",
            "Collecting pyyaml>=5.1\n",
            "  Downloading PyYAML-6.0-cp37-cp37m-manylinux_2_5_x86_64.manylinux1_x86_64.manylinux_2_12_x86_64.manylinux2010_x86_64.whl (596 kB)\n",
            "\u001b[K     |████████████████████████████████| 596 kB 55.6 MB/s \n",
            "\u001b[?25hRequirement already satisfied: packaging>=20.0 in /usr/local/lib/python3.7/dist-packages (from transformers<5.0.0,>=4.6.0->sentence_transformers) (21.3)\n",
            "Collecting tokenizers!=0.11.3,<0.13,>=0.11.1\n",
            "  Downloading tokenizers-0.12.1-cp37-cp37m-manylinux_2_12_x86_64.manylinux2010_x86_64.whl (6.6 MB)\n",
            "\u001b[K     |████████████████████████████████| 6.6 MB 44.6 MB/s \n",
            "\u001b[?25hRequirement already satisfied: pyparsing!=3.0.5,>=2.0.2 in /usr/local/lib/python3.7/dist-packages (from packaging>=20.0->transformers<5.0.0,>=4.6.0->sentence_transformers) (3.0.8)\n",
            "Requirement already satisfied: zipp>=0.5 in /usr/local/lib/python3.7/dist-packages (from importlib-metadata->transformers<5.0.0,>=4.6.0->sentence_transformers) (3.8.0)\n",
            "Requirement already satisfied: six in /usr/local/lib/python3.7/dist-packages (from nltk->sentence_transformers) (1.15.0)\n",
            "Requirement already satisfied: urllib3!=1.25.0,!=1.25.1,<1.26,>=1.21.1 in /usr/local/lib/python3.7/dist-packages (from requests->transformers<5.0.0,>=4.6.0->sentence_transformers) (1.24.3)\n",
            "Requirement already satisfied: idna<3,>=2.5 in /usr/local/lib/python3.7/dist-packages (from requests->transformers<5.0.0,>=4.6.0->sentence_transformers) (2.10)\n",
            "Requirement already satisfied: certifi>=2017.4.17 in /usr/local/lib/python3.7/dist-packages (from requests->transformers<5.0.0,>=4.6.0->sentence_transformers) (2021.10.8)\n",
            "Requirement already satisfied: chardet<4,>=3.0.2 in /usr/local/lib/python3.7/dist-packages (from requests->transformers<5.0.0,>=4.6.0->sentence_transformers) (3.0.4)\n",
            "Requirement already satisfied: click in /usr/local/lib/python3.7/dist-packages (from sacremoses->transformers<5.0.0,>=4.6.0->sentence_transformers) (7.1.2)\n",
            "Requirement already satisfied: joblib in /usr/local/lib/python3.7/dist-packages (from sacremoses->transformers<5.0.0,>=4.6.0->sentence_transformers) (1.1.0)\n",
            "Requirement already satisfied: threadpoolctl>=2.0.0 in /usr/local/lib/python3.7/dist-packages (from scikit-learn->sentence_transformers) (3.1.0)\n",
            "Requirement already satisfied: pillow!=8.3.*,>=5.3.0 in /usr/local/lib/python3.7/dist-packages (from torchvision->sentence_transformers) (7.1.2)\n",
            "Building wheels for collected packages: sentence-transformers, sacremoses\n",
            "  Building wheel for sentence-transformers (setup.py) ... \u001b[?25l\u001b[?25hdone\n",
            "  Created wheel for sentence-transformers: filename=sentence_transformers-2.2.0-py3-none-any.whl size=120747 sha256=820fb082261305dcd0b7ba43e833c3d5e21f21ba9f57f3eb41afecb67a214b4a\n",
            "  Stored in directory: /root/.cache/pip/wheels/83/c0/df/b6873ab7aac3f2465aa9144b6b4c41c4391cfecc027c8b07e7\n",
            "  Building wheel for sacremoses (setup.py) ... \u001b[?25l\u001b[?25hdone\n",
            "  Created wheel for sacremoses: filename=sacremoses-0.0.53-py3-none-any.whl size=895260 sha256=4b35490c8af7cd447d9406569d3807cd8f010284d16c62fb84b1f6aeebfa85bf\n",
            "  Stored in directory: /root/.cache/pip/wheels/87/39/dd/a83eeef36d0bf98e7a4d1933a4ad2d660295a40613079bafc9\n",
            "Successfully built sentence-transformers sacremoses\n",
            "Installing collected packages: pyyaml, tokenizers, sacremoses, huggingface-hub, transformers, sentencepiece, sentence-transformers\n",
            "  Attempting uninstall: pyyaml\n",
            "    Found existing installation: PyYAML 3.13\n",
            "    Uninstalling PyYAML-3.13:\n",
            "      Successfully uninstalled PyYAML-3.13\n",
            "Successfully installed huggingface-hub-0.5.1 pyyaml-6.0 sacremoses-0.0.53 sentence-transformers-2.2.0 sentencepiece-0.1.96 tokenizers-0.12.1 transformers-4.18.0\n"
          ]
        }
      ]
    },
    {
      "cell_type": "code",
      "execution_count": 2,
      "metadata": {
        "id": "b4baddef"
      },
      "outputs": [],
      "source": [
        "import tensorflow as tf\n",
        "import pandas as pd\n",
        "import numpy as np\n",
        "import glob\n",
        "import os\n",
        "import keras\n",
        "from keras.preprocessing.text import Tokenizer\n",
        "from keras.preprocessing import sequence\n",
        "from keras.preprocessing.sequence import pad_sequences\n",
        "from sklearn.model_selection import train_test_split\n",
        "from keras.models import Sequential\n",
        "from keras.layers import Dense, LSTM, Embedding, SpatialDropout1D, Dropout,Bidirectional,Layer\n",
        "from sklearn import metrics\n",
        "from sklearn.metrics import classification_report,multilabel_confusion_matrix\n",
        "import seaborn as sns\n",
        "import matplotlib.pyplot as plt\n",
        "from sklearn.metrics import confusion_matrix\n",
        "from sklearn.metrics import accuracy_score\n",
        "\n",
        "import keras.utils\n",
        "from keras.utils.vis_utils import plot_model\n",
        "from sklearn.utils import shuffle\n",
        "from tensorflow.keras.optimizers import Adam, RMSprop\n",
        "from tensorflow.keras.layers import Input, Reshape, Dropout\n",
        "from tensorflow.keras import Model\n",
        "import csv\n",
        "from sentence_transformers import SentenceTransformer\n",
        "import re\n",
        "import pickle"
      ]
    },
    {
      "cell_type": "markdown",
      "source": [
        "# Reading Data"
      ],
      "metadata": {
        "id": "CjaIRUF-oMuI"
      }
    },
    {
      "cell_type": "code",
      "execution_count": 4,
      "metadata": {
        "id": "6bd9526d"
      },
      "outputs": [],
      "source": [
        "'''df = pd.read_csv('/Users/datta/tokhinglish/psuedo_data.csv')'''\n",
        "'''df = pd.read_csv('psuedo_data.csv')'''\n",
        "df = pd.read_csv('gdrive/My Drive/Major_Project_Group_11/Pseudo_Labelled_DataSets/psuedo_data.csv')"
      ]
    },
    {
      "cell_type": "code",
      "execution_count": 5,
      "metadata": {
        "id": "17cvrVpqE8pT",
        "colab": {
          "base_uri": "https://localhost:8080/",
          "height": 0
        },
        "outputId": "3e2c5c93-1759-425b-d784-a71a6ee1c60e"
      },
      "outputs": [
        {
          "output_type": "execute_result",
          "data": {
            "text/plain": [
              "                                                    text  label_f  label_h  \\\n",
              "0      sir  lovehate relationship ke bare mein aap ka...        1        0   \n",
              "1      same here he is the reason to watch bb but i c...        0        0   \n",
              "2      bhai koi iska rape kar doog main bahut khujli ...        0        0   \n",
              "3      buuma raviisha baata karaka pata laga aisa api...        1        0   \n",
              "4      gajar mein vitamin c hoty hain jis sey aakhon ...        1        0   \n",
              "...                                                  ...      ...      ...   \n",
              "10461  bas karo aunty aaplog ka gentle rape ho chuka ...        0        0   \n",
              "10462  masti he mohl me chahi khumari he saarey thak ...        0        0   \n",
              "10463  dekhna ek din koi inke jindagi ka rape karke c...        0        0   \n",
              "10464  aur us waqt kisi ne intolarence hai desh mein ...        0        0   \n",
              "10465    sala khutta bajrangi bana hova kuch to sharm kr        0        0   \n",
              "\n",
              "       label_s  \n",
              "0            0  \n",
              "1            0  \n",
              "2            0  \n",
              "3            0  \n",
              "4            0  \n",
              "...        ...  \n",
              "10461        0  \n",
              "10462        0  \n",
              "10463        0  \n",
              "10464        1  \n",
              "10465        0  \n",
              "\n",
              "[10466 rows x 4 columns]"
            ],
            "text/html": [
              "\n",
              "  <div id=\"df-156d0e73-4998-472b-a3ba-362e85818944\">\n",
              "    <div class=\"colab-df-container\">\n",
              "      <div>\n",
              "<style scoped>\n",
              "    .dataframe tbody tr th:only-of-type {\n",
              "        vertical-align: middle;\n",
              "    }\n",
              "\n",
              "    .dataframe tbody tr th {\n",
              "        vertical-align: top;\n",
              "    }\n",
              "\n",
              "    .dataframe thead th {\n",
              "        text-align: right;\n",
              "    }\n",
              "</style>\n",
              "<table border=\"1\" class=\"dataframe\">\n",
              "  <thead>\n",
              "    <tr style=\"text-align: right;\">\n",
              "      <th></th>\n",
              "      <th>text</th>\n",
              "      <th>label_f</th>\n",
              "      <th>label_h</th>\n",
              "      <th>label_s</th>\n",
              "    </tr>\n",
              "  </thead>\n",
              "  <tbody>\n",
              "    <tr>\n",
              "      <th>0</th>\n",
              "      <td>sir  lovehate relationship ke bare mein aap ka...</td>\n",
              "      <td>1</td>\n",
              "      <td>0</td>\n",
              "      <td>0</td>\n",
              "    </tr>\n",
              "    <tr>\n",
              "      <th>1</th>\n",
              "      <td>same here he is the reason to watch bb but i c...</td>\n",
              "      <td>0</td>\n",
              "      <td>0</td>\n",
              "      <td>0</td>\n",
              "    </tr>\n",
              "    <tr>\n",
              "      <th>2</th>\n",
              "      <td>bhai koi iska rape kar doog main bahut khujli ...</td>\n",
              "      <td>0</td>\n",
              "      <td>0</td>\n",
              "      <td>0</td>\n",
              "    </tr>\n",
              "    <tr>\n",
              "      <th>3</th>\n",
              "      <td>buuma raviisha baata karaka pata laga aisa api...</td>\n",
              "      <td>1</td>\n",
              "      <td>0</td>\n",
              "      <td>0</td>\n",
              "    </tr>\n",
              "    <tr>\n",
              "      <th>4</th>\n",
              "      <td>gajar mein vitamin c hoty hain jis sey aakhon ...</td>\n",
              "      <td>1</td>\n",
              "      <td>0</td>\n",
              "      <td>0</td>\n",
              "    </tr>\n",
              "    <tr>\n",
              "      <th>...</th>\n",
              "      <td>...</td>\n",
              "      <td>...</td>\n",
              "      <td>...</td>\n",
              "      <td>...</td>\n",
              "    </tr>\n",
              "    <tr>\n",
              "      <th>10461</th>\n",
              "      <td>bas karo aunty aaplog ka gentle rape ho chuka ...</td>\n",
              "      <td>0</td>\n",
              "      <td>0</td>\n",
              "      <td>0</td>\n",
              "    </tr>\n",
              "    <tr>\n",
              "      <th>10462</th>\n",
              "      <td>masti he mohl me chahi khumari he saarey thak ...</td>\n",
              "      <td>0</td>\n",
              "      <td>0</td>\n",
              "      <td>0</td>\n",
              "    </tr>\n",
              "    <tr>\n",
              "      <th>10463</th>\n",
              "      <td>dekhna ek din koi inke jindagi ka rape karke c...</td>\n",
              "      <td>0</td>\n",
              "      <td>0</td>\n",
              "      <td>0</td>\n",
              "    </tr>\n",
              "    <tr>\n",
              "      <th>10464</th>\n",
              "      <td>aur us waqt kisi ne intolarence hai desh mein ...</td>\n",
              "      <td>0</td>\n",
              "      <td>0</td>\n",
              "      <td>1</td>\n",
              "    </tr>\n",
              "    <tr>\n",
              "      <th>10465</th>\n",
              "      <td>sala khutta bajrangi bana hova kuch to sharm kr</td>\n",
              "      <td>0</td>\n",
              "      <td>0</td>\n",
              "      <td>0</td>\n",
              "    </tr>\n",
              "  </tbody>\n",
              "</table>\n",
              "<p>10466 rows × 4 columns</p>\n",
              "</div>\n",
              "      <button class=\"colab-df-convert\" onclick=\"convertToInteractive('df-156d0e73-4998-472b-a3ba-362e85818944')\"\n",
              "              title=\"Convert this dataframe to an interactive table.\"\n",
              "              style=\"display:none;\">\n",
              "        \n",
              "  <svg xmlns=\"http://www.w3.org/2000/svg\" height=\"24px\"viewBox=\"0 0 24 24\"\n",
              "       width=\"24px\">\n",
              "    <path d=\"M0 0h24v24H0V0z\" fill=\"none\"/>\n",
              "    <path d=\"M18.56 5.44l.94 2.06.94-2.06 2.06-.94-2.06-.94-.94-2.06-.94 2.06-2.06.94zm-11 1L8.5 8.5l.94-2.06 2.06-.94-2.06-.94L8.5 2.5l-.94 2.06-2.06.94zm10 10l.94 2.06.94-2.06 2.06-.94-2.06-.94-.94-2.06-.94 2.06-2.06.94z\"/><path d=\"M17.41 7.96l-1.37-1.37c-.4-.4-.92-.59-1.43-.59-.52 0-1.04.2-1.43.59L10.3 9.45l-7.72 7.72c-.78.78-.78 2.05 0 2.83L4 21.41c.39.39.9.59 1.41.59.51 0 1.02-.2 1.41-.59l7.78-7.78 2.81-2.81c.8-.78.8-2.07 0-2.86zM5.41 20L4 18.59l7.72-7.72 1.47 1.35L5.41 20z\"/>\n",
              "  </svg>\n",
              "      </button>\n",
              "      \n",
              "  <style>\n",
              "    .colab-df-container {\n",
              "      display:flex;\n",
              "      flex-wrap:wrap;\n",
              "      gap: 12px;\n",
              "    }\n",
              "\n",
              "    .colab-df-convert {\n",
              "      background-color: #E8F0FE;\n",
              "      border: none;\n",
              "      border-radius: 50%;\n",
              "      cursor: pointer;\n",
              "      display: none;\n",
              "      fill: #1967D2;\n",
              "      height: 32px;\n",
              "      padding: 0 0 0 0;\n",
              "      width: 32px;\n",
              "    }\n",
              "\n",
              "    .colab-df-convert:hover {\n",
              "      background-color: #E2EBFA;\n",
              "      box-shadow: 0px 1px 2px rgba(60, 64, 67, 0.3), 0px 1px 3px 1px rgba(60, 64, 67, 0.15);\n",
              "      fill: #174EA6;\n",
              "    }\n",
              "\n",
              "    [theme=dark] .colab-df-convert {\n",
              "      background-color: #3B4455;\n",
              "      fill: #D2E3FC;\n",
              "    }\n",
              "\n",
              "    [theme=dark] .colab-df-convert:hover {\n",
              "      background-color: #434B5C;\n",
              "      box-shadow: 0px 1px 3px 1px rgba(0, 0, 0, 0.15);\n",
              "      filter: drop-shadow(0px 1px 2px rgba(0, 0, 0, 0.3));\n",
              "      fill: #FFFFFF;\n",
              "    }\n",
              "  </style>\n",
              "\n",
              "      <script>\n",
              "        const buttonEl =\n",
              "          document.querySelector('#df-156d0e73-4998-472b-a3ba-362e85818944 button.colab-df-convert');\n",
              "        buttonEl.style.display =\n",
              "          google.colab.kernel.accessAllowed ? 'block' : 'none';\n",
              "\n",
              "        async function convertToInteractive(key) {\n",
              "          const element = document.querySelector('#df-156d0e73-4998-472b-a3ba-362e85818944');\n",
              "          const dataTable =\n",
              "            await google.colab.kernel.invokeFunction('convertToInteractive',\n",
              "                                                     [key], {});\n",
              "          if (!dataTable) return;\n",
              "\n",
              "          const docLinkHtml = 'Like what you see? Visit the ' +\n",
              "            '<a target=\"_blank\" href=https://colab.research.google.com/notebooks/data_table.ipynb>data table notebook</a>'\n",
              "            + ' to learn more about interactive tables.';\n",
              "          element.innerHTML = '';\n",
              "          dataTable['output_type'] = 'display_data';\n",
              "          await google.colab.output.renderOutput(dataTable, element);\n",
              "          const docLink = document.createElement('div');\n",
              "          docLink.innerHTML = docLinkHtml;\n",
              "          element.appendChild(docLink);\n",
              "        }\n",
              "      </script>\n",
              "    </div>\n",
              "  </div>\n",
              "  "
            ]
          },
          "metadata": {},
          "execution_count": 5
        }
      ],
      "source": [
        "df=df.loc[:, ~df.columns.str.match('Unnamed')]\n",
        "df"
      ]
    },
    {
      "cell_type": "markdown",
      "metadata": {
        "id": "4Pr3bgGTbpXB"
      },
      "source": [
        "#  Text Preprocessing"
      ]
    },
    {
      "cell_type": "code",
      "execution_count": 6,
      "metadata": {
        "id": "ZNqiKp-jbpXC"
      },
      "outputs": [],
      "source": [
        "def preprocess_text_data(df):\n",
        "  replace_by_space = re.compile('[/(){}\\[\\]\\|@,;]')\n",
        "  bad_sym = re.compile('[^a-z #+_]')\n",
        "  def clean_text(text):\n",
        "    text = text.lower()\n",
        "    text = replace_by_space.sub(' ',text)\n",
        "    text = bad_sym.sub('', text)\n",
        "    return text\n",
        "  df.dropna(subset = ['text'], inplace = True)\n",
        "  df['text'] = df['text'].apply(clean_text)"
      ]
    },
    {
      "cell_type": "code",
      "execution_count": 7,
      "metadata": {
        "id": "-9m8DpRQbpXD"
      },
      "outputs": [],
      "source": [
        "df1=df"
      ]
    },
    {
      "cell_type": "code",
      "execution_count": 8,
      "metadata": {
        "id": "4o9d8DVvbpXD"
      },
      "outputs": [],
      "source": [
        "preprocess_text_data(df1)"
      ]
    },
    {
      "cell_type": "markdown",
      "source": [
        "# **Embeddings Function**\n",
        "\n",
        "\n"
      ],
      "metadata": {
        "id": "kY4Rk66zoWYq"
      }
    },
    {
      "cell_type": "code",
      "execution_count": 9,
      "metadata": {
        "id": "1552e6a7"
      },
      "outputs": [],
      "source": [
        "def get_embeddings(df):\n",
        "    sentences = list(df['text'])\n",
        "    model = SentenceTransformer('sentence-transformers/stsb-xlm-r-multilingual')\n",
        "    embeddings = model.encode(sentences)\n",
        "    model = SentenceTransformer('bert-base-multilingual-cased')\n",
        "    embeddingss = model.encode(sentences)\n",
        "    y=np.add(embeddings,embeddingss)\n",
        "    y2=np.divide(y,2)\n",
        "    return embeddings,embeddingss,y2"
      ]
    },
    {
      "cell_type": "markdown",
      "metadata": {
        "id": "9e08e49c"
      },
      "source": [
        "# **Embeddings and Embeddings Size Reduction**"
      ]
    },
    {
      "cell_type": "code",
      "execution_count": null,
      "metadata": {
        "id": "b9f5d78b"
      },
      "outputs": [],
      "source": [
        "embeddings_d_xlm,embeddings_d_bert_multilingual,y8 = get_embeddings(df)"
      ]
    },
    {
      "cell_type": "code",
      "execution_count": null,
      "metadata": {
        "id": "cf166f12"
      },
      "outputs": [],
      "source": [
        "print(y8)"
      ]
    },
    {
      "cell_type": "code",
      "execution_count": null,
      "metadata": {
        "id": "85445b32"
      },
      "outputs": [],
      "source": [
        "embeddings_d_xlm.shape"
      ]
    },
    {
      "cell_type": "code",
      "execution_count": null,
      "metadata": {
        "scrolled": false,
        "id": "812b9691"
      },
      "outputs": [],
      "source": [
        "embeddings_d_bert_multilingual.shape"
      ]
    },
    {
      "cell_type": "code",
      "execution_count": null,
      "metadata": {
        "id": "36384c3b"
      },
      "outputs": [],
      "source": [
        "pickle.dump(y8, open('embeddings_combined_data.pkl', 'wb'))"
      ]
    },
    {
      "cell_type": "code",
      "execution_count": 10,
      "metadata": {
        "id": "16395d04"
      },
      "outputs": [],
      "source": [
        "'''y8 = pd.read_pickle('embeddings_combined_data.pkl')'''\n",
        "y8 = pd.read_pickle('gdrive/My Drive/Major_Project_Group_11/Embeddings/embeddings_combined_data.pkl')"
      ]
    },
    {
      "cell_type": "code",
      "execution_count": 11,
      "metadata": {
        "id": "06eb77ee",
        "colab": {
          "base_uri": "https://localhost:8080/"
        },
        "outputId": "0cdfdb66-c4c9-4d62-dc9c-74e70c93e318"
      },
      "outputs": [
        {
          "output_type": "execute_result",
          "data": {
            "text/plain": [
              "array([[ 0.07760719,  0.26713616,  0.6672787 , ...,  0.00388296,\n",
              "        -0.042463  ,  0.03016911],\n",
              "       [ 0.33996582,  0.08725528,  0.02253492, ...,  0.81181246,\n",
              "        -0.08421463,  0.03725218],\n",
              "       [ 0.09473173, -0.03542611, -0.09560873, ...,  0.09384529,\n",
              "        -0.08486855, -0.17937572],\n",
              "       ...,\n",
              "       [ 0.11105699,  0.06482825,  0.22452624, ...,  0.29086405,\n",
              "        -0.1128779 , -0.06746754],\n",
              "       [ 0.04918349, -0.01484101,  0.40636596, ..., -0.38343456,\n",
              "         0.05330944,  0.01544872],\n",
              "       [-0.00106991,  0.24078679,  0.231348  , ...,  0.19082162,\n",
              "        -0.17955999, -0.0301618 ]], dtype=float32)"
            ]
          },
          "metadata": {},
          "execution_count": 11
        }
      ],
      "source": [
        "y8"
      ]
    },
    {
      "cell_type": "code",
      "execution_count": 12,
      "metadata": {
        "id": "eeec155f"
      },
      "outputs": [],
      "source": [
        "encoding_dim = 200\n",
        "ncol1 = y8.shape[1]\n",
        "input_dim1 = Input(shape = (ncol1, ))\n",
        "\n",
        "# Encoder Layers\n",
        "encoded11 = Dense(768, activation = 'relu')(input_dim1)\n",
        "encoded21 = Dense(512, activation = 'relu')(encoded11)\n",
        "encoded31 = Dense(256, activation = 'relu')(encoded21)\n",
        "encoded131 = Dense(encoding_dim, activation = 'relu')(encoded31)\n",
        "\n",
        "# Decoder Layers\n",
        "decoded11 = Dense(256, activation = 'relu')(encoded131)\n",
        "decoded21 = Dense(512, activation = 'relu')(decoded11)\n",
        "decoded31 = Dense(768, activation = 'relu')(decoded21)\n",
        "decoded131 = Dense(ncol1, activation = 'sigmoid')(decoded31)\n",
        "\n",
        "# Combine Encoder and Deocder layers\n",
        "autoencoder1 = Model(inputs = input_dim1, outputs = decoded131)\n",
        "\n",
        "# Compile the Model\n",
        "autoencoder1.compile(optimizer = 'adadelta', loss = 'binary_crossentropy')"
      ]
    },
    {
      "cell_type": "code",
      "execution_count": 13,
      "metadata": {
        "scrolled": true,
        "id": "677a08c2",
        "colab": {
          "base_uri": "https://localhost:8080/"
        },
        "outputId": "256f4cd9-0e40-43df-9afb-1b69c28979cc"
      },
      "outputs": [
        {
          "output_type": "stream",
          "name": "stdout",
          "text": [
            "Model: \"model\"\n",
            "_________________________________________________________________\n",
            " Layer (type)                Output Shape              Param #   \n",
            "=================================================================\n",
            " input_1 (InputLayer)        [(None, 768)]             0         \n",
            "                                                                 \n",
            " dense (Dense)               (None, 768)               590592    \n",
            "                                                                 \n",
            " dense_1 (Dense)             (None, 512)               393728    \n",
            "                                                                 \n",
            " dense_2 (Dense)             (None, 256)               131328    \n",
            "                                                                 \n",
            " dense_3 (Dense)             (None, 200)               51400     \n",
            "                                                                 \n",
            " dense_4 (Dense)             (None, 256)               51456     \n",
            "                                                                 \n",
            " dense_5 (Dense)             (None, 512)               131584    \n",
            "                                                                 \n",
            " dense_6 (Dense)             (None, 768)               393984    \n",
            "                                                                 \n",
            " dense_7 (Dense)             (None, 768)               590592    \n",
            "                                                                 \n",
            "=================================================================\n",
            "Total params: 2,334,664\n",
            "Trainable params: 2,334,664\n",
            "Non-trainable params: 0\n",
            "_________________________________________________________________\n"
          ]
        }
      ],
      "source": [
        "autoencoder1.summary()"
      ]
    },
    {
      "cell_type": "code",
      "execution_count": 14,
      "metadata": {
        "scrolled": true,
        "id": "50c9a1e5",
        "colab": {
          "base_uri": "https://localhost:8080/"
        },
        "outputId": "689e6df6-ffa7-409d-d72c-f5c8ce291e18"
      },
      "outputs": [
        {
          "output_type": "stream",
          "name": "stdout",
          "text": [
            "Epoch 1/5\n",
            "328/328 [==============================] - 13s 36ms/step - loss: 0.6926 - val_loss: 0.6925\n",
            "Epoch 2/5\n",
            "328/328 [==============================] - 11s 35ms/step - loss: 0.6923 - val_loss: 0.6922\n",
            "Epoch 3/5\n",
            "328/328 [==============================] - 11s 34ms/step - loss: 0.6920 - val_loss: 0.6919\n",
            "Epoch 4/5\n",
            "328/328 [==============================] - 11s 34ms/step - loss: 0.6917 - val_loss: 0.6916\n",
            "Epoch 5/5\n",
            "328/328 [==============================] - 11s 33ms/step - loss: 0.6914 - val_loss: 0.6913\n"
          ]
        },
        {
          "output_type": "execute_result",
          "data": {
            "text/plain": [
              "<keras.callbacks.History at 0x7fe4205fcb10>"
            ]
          },
          "metadata": {},
          "execution_count": 14
        }
      ],
      "source": [
        "autoencoder1.fit(y8, y8,epochs = 5, batch_size = 32, shuffle = False, validation_data = (y8,y8))"
      ]
    },
    {
      "cell_type": "code",
      "execution_count": 15,
      "metadata": {
        "id": "d256ffbf"
      },
      "outputs": [],
      "source": [
        "encoder1 = Model(inputs = input_dim1, outputs = encoded131)\n",
        "encoded_input1 = Input(shape = (encoding_dim, ))"
      ]
    },
    {
      "cell_type": "code",
      "execution_count": 16,
      "metadata": {
        "id": "d726c1f0"
      },
      "outputs": [],
      "source": [
        "yed = pd.DataFrame(encoder1.predict(y8))"
      ]
    },
    {
      "cell_type": "code",
      "execution_count": 17,
      "metadata": {
        "scrolled": true,
        "id": "589c3eb0",
        "colab": {
          "base_uri": "https://localhost:8080/",
          "height": 0
        },
        "outputId": "b9cf7493-0a44-4edc-ab4e-6dd401598883"
      },
      "outputs": [
        {
          "output_type": "stream",
          "name": "stdout",
          "text": [
            "(10466, 200)\n"
          ]
        },
        {
          "output_type": "execute_result",
          "data": {
            "text/plain": [
              "        0    1         2         3         4         5         6         7    \\\n",
              "0  0.207439  0.0  0.188820  0.274064  0.119063  0.216703  0.103466  0.109901   \n",
              "1  0.139779  0.0  0.160712  0.144819  0.119884  0.251191  0.041279  0.000000   \n",
              "2  0.168680  0.0  0.187671  0.133500  0.000000  0.303209  0.122699  0.000000   \n",
              "3  0.232834  0.0  0.058876  0.165108  0.000000  0.229992  0.010537  0.046739   \n",
              "4  0.270723  0.0  0.097215  0.184473  0.054438  0.248111  0.062743  0.056549   \n",
              "\n",
              "   8         9    ...  190       191       192       193      194  195  \\\n",
              "0  0.0  0.115876  ...  0.0  0.051464  0.000000  0.092875  0.00000  0.0   \n",
              "1  0.0  0.000000  ...  0.0  0.036622  0.000000  0.101681  0.00000  0.0   \n",
              "2  0.0  0.164493  ...  0.0  0.000000  0.010392  0.073193  0.00000  0.0   \n",
              "3  0.0  0.095023  ...  0.0  0.000000  0.000000  0.000000  0.00000  0.0   \n",
              "4  0.0  0.123153  ...  0.0  0.000000  0.000000  0.086952  0.06726  0.0   \n",
              "\n",
              "        196       197       198       199  \n",
              "0  0.088073  0.000000  0.056300  0.177524  \n",
              "1  0.004668  0.190007  0.087610  0.043397  \n",
              "2  0.094078  0.008823  0.060096  0.182042  \n",
              "3  0.074707  0.060313  0.046683  0.152774  \n",
              "4  0.066948  0.068303  0.075824  0.212705  \n",
              "\n",
              "[5 rows x 200 columns]"
            ],
            "text/html": [
              "\n",
              "  <div id=\"df-ec004b48-abce-4a11-9190-1d72009cc522\">\n",
              "    <div class=\"colab-df-container\">\n",
              "      <div>\n",
              "<style scoped>\n",
              "    .dataframe tbody tr th:only-of-type {\n",
              "        vertical-align: middle;\n",
              "    }\n",
              "\n",
              "    .dataframe tbody tr th {\n",
              "        vertical-align: top;\n",
              "    }\n",
              "\n",
              "    .dataframe thead th {\n",
              "        text-align: right;\n",
              "    }\n",
              "</style>\n",
              "<table border=\"1\" class=\"dataframe\">\n",
              "  <thead>\n",
              "    <tr style=\"text-align: right;\">\n",
              "      <th></th>\n",
              "      <th>0</th>\n",
              "      <th>1</th>\n",
              "      <th>2</th>\n",
              "      <th>3</th>\n",
              "      <th>4</th>\n",
              "      <th>5</th>\n",
              "      <th>6</th>\n",
              "      <th>7</th>\n",
              "      <th>8</th>\n",
              "      <th>9</th>\n",
              "      <th>...</th>\n",
              "      <th>190</th>\n",
              "      <th>191</th>\n",
              "      <th>192</th>\n",
              "      <th>193</th>\n",
              "      <th>194</th>\n",
              "      <th>195</th>\n",
              "      <th>196</th>\n",
              "      <th>197</th>\n",
              "      <th>198</th>\n",
              "      <th>199</th>\n",
              "    </tr>\n",
              "  </thead>\n",
              "  <tbody>\n",
              "    <tr>\n",
              "      <th>0</th>\n",
              "      <td>0.207439</td>\n",
              "      <td>0.0</td>\n",
              "      <td>0.188820</td>\n",
              "      <td>0.274064</td>\n",
              "      <td>0.119063</td>\n",
              "      <td>0.216703</td>\n",
              "      <td>0.103466</td>\n",
              "      <td>0.109901</td>\n",
              "      <td>0.0</td>\n",
              "      <td>0.115876</td>\n",
              "      <td>...</td>\n",
              "      <td>0.0</td>\n",
              "      <td>0.051464</td>\n",
              "      <td>0.000000</td>\n",
              "      <td>0.092875</td>\n",
              "      <td>0.00000</td>\n",
              "      <td>0.0</td>\n",
              "      <td>0.088073</td>\n",
              "      <td>0.000000</td>\n",
              "      <td>0.056300</td>\n",
              "      <td>0.177524</td>\n",
              "    </tr>\n",
              "    <tr>\n",
              "      <th>1</th>\n",
              "      <td>0.139779</td>\n",
              "      <td>0.0</td>\n",
              "      <td>0.160712</td>\n",
              "      <td>0.144819</td>\n",
              "      <td>0.119884</td>\n",
              "      <td>0.251191</td>\n",
              "      <td>0.041279</td>\n",
              "      <td>0.000000</td>\n",
              "      <td>0.0</td>\n",
              "      <td>0.000000</td>\n",
              "      <td>...</td>\n",
              "      <td>0.0</td>\n",
              "      <td>0.036622</td>\n",
              "      <td>0.000000</td>\n",
              "      <td>0.101681</td>\n",
              "      <td>0.00000</td>\n",
              "      <td>0.0</td>\n",
              "      <td>0.004668</td>\n",
              "      <td>0.190007</td>\n",
              "      <td>0.087610</td>\n",
              "      <td>0.043397</td>\n",
              "    </tr>\n",
              "    <tr>\n",
              "      <th>2</th>\n",
              "      <td>0.168680</td>\n",
              "      <td>0.0</td>\n",
              "      <td>0.187671</td>\n",
              "      <td>0.133500</td>\n",
              "      <td>0.000000</td>\n",
              "      <td>0.303209</td>\n",
              "      <td>0.122699</td>\n",
              "      <td>0.000000</td>\n",
              "      <td>0.0</td>\n",
              "      <td>0.164493</td>\n",
              "      <td>...</td>\n",
              "      <td>0.0</td>\n",
              "      <td>0.000000</td>\n",
              "      <td>0.010392</td>\n",
              "      <td>0.073193</td>\n",
              "      <td>0.00000</td>\n",
              "      <td>0.0</td>\n",
              "      <td>0.094078</td>\n",
              "      <td>0.008823</td>\n",
              "      <td>0.060096</td>\n",
              "      <td>0.182042</td>\n",
              "    </tr>\n",
              "    <tr>\n",
              "      <th>3</th>\n",
              "      <td>0.232834</td>\n",
              "      <td>0.0</td>\n",
              "      <td>0.058876</td>\n",
              "      <td>0.165108</td>\n",
              "      <td>0.000000</td>\n",
              "      <td>0.229992</td>\n",
              "      <td>0.010537</td>\n",
              "      <td>0.046739</td>\n",
              "      <td>0.0</td>\n",
              "      <td>0.095023</td>\n",
              "      <td>...</td>\n",
              "      <td>0.0</td>\n",
              "      <td>0.000000</td>\n",
              "      <td>0.000000</td>\n",
              "      <td>0.000000</td>\n",
              "      <td>0.00000</td>\n",
              "      <td>0.0</td>\n",
              "      <td>0.074707</td>\n",
              "      <td>0.060313</td>\n",
              "      <td>0.046683</td>\n",
              "      <td>0.152774</td>\n",
              "    </tr>\n",
              "    <tr>\n",
              "      <th>4</th>\n",
              "      <td>0.270723</td>\n",
              "      <td>0.0</td>\n",
              "      <td>0.097215</td>\n",
              "      <td>0.184473</td>\n",
              "      <td>0.054438</td>\n",
              "      <td>0.248111</td>\n",
              "      <td>0.062743</td>\n",
              "      <td>0.056549</td>\n",
              "      <td>0.0</td>\n",
              "      <td>0.123153</td>\n",
              "      <td>...</td>\n",
              "      <td>0.0</td>\n",
              "      <td>0.000000</td>\n",
              "      <td>0.000000</td>\n",
              "      <td>0.086952</td>\n",
              "      <td>0.06726</td>\n",
              "      <td>0.0</td>\n",
              "      <td>0.066948</td>\n",
              "      <td>0.068303</td>\n",
              "      <td>0.075824</td>\n",
              "      <td>0.212705</td>\n",
              "    </tr>\n",
              "  </tbody>\n",
              "</table>\n",
              "<p>5 rows × 200 columns</p>\n",
              "</div>\n",
              "      <button class=\"colab-df-convert\" onclick=\"convertToInteractive('df-ec004b48-abce-4a11-9190-1d72009cc522')\"\n",
              "              title=\"Convert this dataframe to an interactive table.\"\n",
              "              style=\"display:none;\">\n",
              "        \n",
              "  <svg xmlns=\"http://www.w3.org/2000/svg\" height=\"24px\"viewBox=\"0 0 24 24\"\n",
              "       width=\"24px\">\n",
              "    <path d=\"M0 0h24v24H0V0z\" fill=\"none\"/>\n",
              "    <path d=\"M18.56 5.44l.94 2.06.94-2.06 2.06-.94-2.06-.94-.94-2.06-.94 2.06-2.06.94zm-11 1L8.5 8.5l.94-2.06 2.06-.94-2.06-.94L8.5 2.5l-.94 2.06-2.06.94zm10 10l.94 2.06.94-2.06 2.06-.94-2.06-.94-.94-2.06-.94 2.06-2.06.94z\"/><path d=\"M17.41 7.96l-1.37-1.37c-.4-.4-.92-.59-1.43-.59-.52 0-1.04.2-1.43.59L10.3 9.45l-7.72 7.72c-.78.78-.78 2.05 0 2.83L4 21.41c.39.39.9.59 1.41.59.51 0 1.02-.2 1.41-.59l7.78-7.78 2.81-2.81c.8-.78.8-2.07 0-2.86zM5.41 20L4 18.59l7.72-7.72 1.47 1.35L5.41 20z\"/>\n",
              "  </svg>\n",
              "      </button>\n",
              "      \n",
              "  <style>\n",
              "    .colab-df-container {\n",
              "      display:flex;\n",
              "      flex-wrap:wrap;\n",
              "      gap: 12px;\n",
              "    }\n",
              "\n",
              "    .colab-df-convert {\n",
              "      background-color: #E8F0FE;\n",
              "      border: none;\n",
              "      border-radius: 50%;\n",
              "      cursor: pointer;\n",
              "      display: none;\n",
              "      fill: #1967D2;\n",
              "      height: 32px;\n",
              "      padding: 0 0 0 0;\n",
              "      width: 32px;\n",
              "    }\n",
              "\n",
              "    .colab-df-convert:hover {\n",
              "      background-color: #E2EBFA;\n",
              "      box-shadow: 0px 1px 2px rgba(60, 64, 67, 0.3), 0px 1px 3px 1px rgba(60, 64, 67, 0.15);\n",
              "      fill: #174EA6;\n",
              "    }\n",
              "\n",
              "    [theme=dark] .colab-df-convert {\n",
              "      background-color: #3B4455;\n",
              "      fill: #D2E3FC;\n",
              "    }\n",
              "\n",
              "    [theme=dark] .colab-df-convert:hover {\n",
              "      background-color: #434B5C;\n",
              "      box-shadow: 0px 1px 3px 1px rgba(0, 0, 0, 0.15);\n",
              "      filter: drop-shadow(0px 1px 2px rgba(0, 0, 0, 0.3));\n",
              "      fill: #FFFFFF;\n",
              "    }\n",
              "  </style>\n",
              "\n",
              "      <script>\n",
              "        const buttonEl =\n",
              "          document.querySelector('#df-ec004b48-abce-4a11-9190-1d72009cc522 button.colab-df-convert');\n",
              "        buttonEl.style.display =\n",
              "          google.colab.kernel.accessAllowed ? 'block' : 'none';\n",
              "\n",
              "        async function convertToInteractive(key) {\n",
              "          const element = document.querySelector('#df-ec004b48-abce-4a11-9190-1d72009cc522');\n",
              "          const dataTable =\n",
              "            await google.colab.kernel.invokeFunction('convertToInteractive',\n",
              "                                                     [key], {});\n",
              "          if (!dataTable) return;\n",
              "\n",
              "          const docLinkHtml = 'Like what you see? Visit the ' +\n",
              "            '<a target=\"_blank\" href=https://colab.research.google.com/notebooks/data_table.ipynb>data table notebook</a>'\n",
              "            + ' to learn more about interactive tables.';\n",
              "          element.innerHTML = '';\n",
              "          dataTable['output_type'] = 'display_data';\n",
              "          await google.colab.output.renderOutput(dataTable, element);\n",
              "          const docLink = document.createElement('div');\n",
              "          docLink.innerHTML = docLinkHtml;\n",
              "          element.appendChild(docLink);\n",
              "        }\n",
              "      </script>\n",
              "    </div>\n",
              "  </div>\n",
              "  "
            ]
          },
          "metadata": {},
          "execution_count": 17
        }
      ],
      "source": [
        "print(yed.shape)\n",
        "yed.head()"
      ]
    },
    {
      "cell_type": "code",
      "execution_count": 18,
      "metadata": {
        "id": "738ebc3b"
      },
      "outputs": [],
      "source": [
        "yedn = yed.to_numpy()\n"
      ]
    },
    {
      "cell_type": "code",
      "execution_count": 19,
      "metadata": {
        "id": "a767a663",
        "colab": {
          "base_uri": "https://localhost:8080/"
        },
        "outputId": "9ce30b6b-4150-43fc-8447-d243512dea42"
      },
      "outputs": [
        {
          "output_type": "execute_result",
          "data": {
            "text/plain": [
              "(10466, 200)"
            ]
          },
          "metadata": {},
          "execution_count": 19
        }
      ],
      "source": [
        "yedn.shape"
      ]
    },
    {
      "cell_type": "code",
      "execution_count": 20,
      "metadata": {
        "id": "d74bc183"
      },
      "outputs": [],
      "source": [
        "yedn = np.reshape(yedn,(yedn.shape[0], 1, yedn.shape[1]))"
      ]
    },
    {
      "cell_type": "code",
      "execution_count": 21,
      "metadata": {
        "id": "4d4d4403",
        "colab": {
          "base_uri": "https://localhost:8080/"
        },
        "outputId": "cbed69b1-b880-4889-ad92-8de21754000f"
      },
      "outputs": [
        {
          "output_type": "execute_result",
          "data": {
            "text/plain": [
              "(10466, 1, 200)"
            ]
          },
          "metadata": {},
          "execution_count": 21
        }
      ],
      "source": [
        "yedn.shape"
      ]
    },
    {
      "cell_type": "code",
      "execution_count": 22,
      "metadata": {
        "id": "220de712"
      },
      "outputs": [],
      "source": [
        "y = df[[\"label_f\", \"label_h\", \"label_s\"]]"
      ]
    },
    {
      "cell_type": "code",
      "execution_count": 23,
      "metadata": {
        "id": "cfa4f86f"
      },
      "outputs": [],
      "source": [
        "y = y.values"
      ]
    },
    {
      "cell_type": "code",
      "execution_count": 24,
      "metadata": {
        "id": "5b1a9c33",
        "colab": {
          "base_uri": "https://localhost:8080/"
        },
        "outputId": "0e26ef5b-5890-47b8-8c58-da592de1666c"
      },
      "outputs": [
        {
          "output_type": "execute_result",
          "data": {
            "text/plain": [
              "(10466, 3)"
            ]
          },
          "metadata": {},
          "execution_count": 24
        }
      ],
      "source": [
        "y.shape"
      ]
    },
    {
      "cell_type": "code",
      "execution_count": 25,
      "metadata": {
        "id": "60961795"
      },
      "outputs": [],
      "source": [
        "x_traind, x_testd, y_traind, y_testd = train_test_split(yedn,y, test_size=0.15, random_state= 41)"
      ]
    },
    {
      "cell_type": "code",
      "execution_count": 26,
      "metadata": {
        "id": "920548ce",
        "colab": {
          "base_uri": "https://localhost:8080/"
        },
        "outputId": "82963e6f-d00c-4c5a-ed64-ac6c83ab7991"
      },
      "outputs": [
        {
          "output_type": "execute_result",
          "data": {
            "text/plain": [
              "array([[0, 1, 0],\n",
              "       [0, 0, 0],\n",
              "       [1, 0, 1],\n",
              "       ...,\n",
              "       [1, 0, 0],\n",
              "       [1, 0, 0],\n",
              "       [1, 1, 0]])"
            ]
          },
          "metadata": {},
          "execution_count": 26
        }
      ],
      "source": [
        "y_traind"
      ]
    },
    {
      "cell_type": "code",
      "execution_count": 27,
      "metadata": {
        "id": "2ad3f2bc"
      },
      "outputs": [],
      "source": [
        "import keras.backend as K"
      ]
    },
    {
      "cell_type": "code",
      "execution_count": 28,
      "metadata": {
        "id": "fb2a2e0a"
      },
      "outputs": [],
      "source": [
        "#Attention Function\n",
        "\n",
        "class attention(Layer):\n",
        "    def __init__(self,**kwargs):\n",
        "        super(attention,self).__init__(**kwargs)\n",
        "\n",
        "    def build(self,input_shape):\n",
        "        self.W=self.add_weight(name=\"att_weight\",shape=(input_shape[-1],1),initializer=\"normal\")\n",
        "        self.b=self.add_weight(name=\"att_bias\",shape=(input_shape[1],1),initializer=\"zeros\")        \n",
        "        super(attention, self).build(input_shape)\n",
        "\n",
        "    def call(self,x):\n",
        "        et=K.squeeze(K.tanh(K.dot(x,self.W)+self.b),axis=-1)\n",
        "        at=K.softmax(et)\n",
        "        at=K.expand_dims(at,axis=-1)\n",
        "        output=x*at\n",
        "        return K.sum(output,axis=1)\n",
        "\n",
        "    def compute_output_shape(self,input_shape):\n",
        "        return (input_shape[0],input_shape[-1])\n",
        "\n",
        "    def get_config(self):\n",
        "        return super(attention,self).get_config()\n"
      ]
    },
    {
      "cell_type": "markdown",
      "source": [
        "# **Bi-Lstm Model with Attention Layer using softmax**"
      ],
      "metadata": {
        "id": "ZNjgPTy1tKQ6"
      }
    },
    {
      "cell_type": "code",
      "source": [
        "model1 = Sequential()\n",
        "model1.add(LSTM(200,input_shape=(1,200),return_sequences=True))\n",
        "model1.add(Dropout(0.3))\n",
        "model1.add(Bidirectional(LSTM(128, return_sequences=True,activation='relu')))\n",
        "model1.add(attention())\n",
        "model1.add(Dropout(0.3))\n",
        "model1.add(Dense(3, activation='softmax'))\n",
        "model1.compile(loss=\"binary_crossentropy\", optimizer = 'adam', metrics = ['accuracy'])\n",
        "model1.summary()"
      ],
      "metadata": {
        "id": "FZITz0pEs8MH",
        "colab": {
          "base_uri": "https://localhost:8080/"
        },
        "outputId": "6e4770b2-0aa8-4e9d-c2c8-d17ec9c416ae"
      },
      "execution_count": 92,
      "outputs": [
        {
          "output_type": "stream",
          "name": "stdout",
          "text": [
            "Model: \"sequential_9\"\n",
            "_________________________________________________________________\n",
            " Layer (type)                Output Shape              Param #   \n",
            "=================================================================\n",
            " lstm_20 (LSTM)              (None, 1, 200)            320800    \n",
            "                                                                 \n",
            " dropout_18 (Dropout)        (None, 1, 200)            0         \n",
            "                                                                 \n",
            " bidirectional_11 (Bidirecti  (None, 1, 256)           336896    \n",
            " onal)                                                           \n",
            "                                                                 \n",
            " attention_10 (attention)    (None, 256)               257       \n",
            "                                                                 \n",
            " dropout_19 (Dropout)        (None, 256)               0         \n",
            "                                                                 \n",
            " dense_16 (Dense)            (None, 3)                 771       \n",
            "                                                                 \n",
            "=================================================================\n",
            "Total params: 658,724\n",
            "Trainable params: 658,724\n",
            "Non-trainable params: 0\n",
            "_________________________________________________________________\n"
          ]
        }
      ]
    },
    {
      "cell_type": "code",
      "execution_count": 93,
      "metadata": {
        "id": "8978707a",
        "colab": {
          "base_uri": "https://localhost:8080/"
        },
        "outputId": "a9b9fd33-51ec-4a76-803a-c9663833da4d"
      },
      "outputs": [
        {
          "output_type": "stream",
          "name": "stdout",
          "text": [
            "Epoch 1/22\n",
            "56/56 [==============================] - 7s 39ms/step - loss: 0.6206 - accuracy: 0.7906 - val_loss: 0.5818 - val_accuracy: 0.8045\n",
            "Epoch 2/22\n",
            "56/56 [==============================] - 1s 25ms/step - loss: 0.5762 - accuracy: 0.8040 - val_loss: 0.5493 - val_accuracy: 0.8045\n",
            "Epoch 3/22\n",
            "56/56 [==============================] - 1s 25ms/step - loss: 0.5470 - accuracy: 0.7996 - val_loss: 0.5335 - val_accuracy: 0.7994\n",
            "Epoch 4/22\n",
            "56/56 [==============================] - 1s 25ms/step - loss: 0.5336 - accuracy: 0.7737 - val_loss: 0.5254 - val_accuracy: 0.7607\n",
            "Epoch 5/22\n",
            "56/56 [==============================] - 1s 25ms/step - loss: 0.5264 - accuracy: 0.7534 - val_loss: 0.5123 - val_accuracy: 0.7640\n",
            "Epoch 6/22\n",
            "56/56 [==============================] - 1s 25ms/step - loss: 0.5189 - accuracy: 0.7427 - val_loss: 0.5050 - val_accuracy: 0.7494\n",
            "Epoch 7/22\n",
            "56/56 [==============================] - 1s 25ms/step - loss: 0.5123 - accuracy: 0.7362 - val_loss: 0.5029 - val_accuracy: 0.7685\n",
            "Epoch 8/22\n",
            "56/56 [==============================] - 1s 24ms/step - loss: 0.5063 - accuracy: 0.7327 - val_loss: 0.4972 - val_accuracy: 0.7494\n",
            "Epoch 9/22\n",
            "56/56 [==============================] - 1s 25ms/step - loss: 0.5038 - accuracy: 0.7389 - val_loss: 0.4961 - val_accuracy: 0.7219\n",
            "Epoch 10/22\n",
            "56/56 [==============================] - 1s 24ms/step - loss: 0.4991 - accuracy: 0.7284 - val_loss: 0.4924 - val_accuracy: 0.7371\n",
            "Epoch 11/22\n",
            "56/56 [==============================] - 1s 25ms/step - loss: 0.4972 - accuracy: 0.7300 - val_loss: 0.4909 - val_accuracy: 0.7466\n",
            "Epoch 12/22\n",
            "56/56 [==============================] - 1s 25ms/step - loss: 0.4948 - accuracy: 0.7310 - val_loss: 0.4902 - val_accuracy: 0.7376\n",
            "Epoch 13/22\n",
            "56/56 [==============================] - 1s 24ms/step - loss: 0.4929 - accuracy: 0.7319 - val_loss: 0.4904 - val_accuracy: 0.7213\n",
            "Epoch 14/22\n",
            "56/56 [==============================] - 1s 25ms/step - loss: 0.4930 - accuracy: 0.7265 - val_loss: 0.4874 - val_accuracy: 0.7371\n",
            "Epoch 15/22\n",
            "56/56 [==============================] - 1s 24ms/step - loss: 0.4908 - accuracy: 0.7286 - val_loss: 0.4878 - val_accuracy: 0.7449\n",
            "Epoch 16/22\n",
            "56/56 [==============================] - 1s 24ms/step - loss: 0.4905 - accuracy: 0.7293 - val_loss: 0.4874 - val_accuracy: 0.6871\n",
            "Epoch 17/22\n",
            "56/56 [==============================] - 1s 24ms/step - loss: 0.4881 - accuracy: 0.7306 - val_loss: 0.4870 - val_accuracy: 0.7292\n",
            "Epoch 18/22\n",
            "56/56 [==============================] - 1s 25ms/step - loss: 0.4871 - accuracy: 0.7303 - val_loss: 0.4858 - val_accuracy: 0.7225\n",
            "Epoch 19/22\n",
            "56/56 [==============================] - 1s 26ms/step - loss: 0.4861 - accuracy: 0.7219 - val_loss: 0.4875 - val_accuracy: 0.6888\n",
            "Epoch 20/22\n",
            "56/56 [==============================] - 1s 25ms/step - loss: 0.4851 - accuracy: 0.7279 - val_loss: 0.4875 - val_accuracy: 0.6781\n",
            "Epoch 21/22\n",
            "56/56 [==============================] - 1s 26ms/step - loss: 0.4842 - accuracy: 0.7307 - val_loss: 0.4866 - val_accuracy: 0.6893\n",
            "Epoch 22/22\n",
            "56/56 [==============================] - 1s 25ms/step - loss: 0.4832 - accuracy: 0.7284 - val_loss: 0.4856 - val_accuracy: 0.6938\n"
          ]
        }
      ],
      "source": [
        "history = model1.fit(x_traind,y_traind, epochs=22, batch_size=128, validation_split=0.2)"
      ]
    },
    {
      "cell_type": "code",
      "execution_count": 94,
      "metadata": {
        "id": "5ed007e2"
      },
      "outputs": [],
      "source": [
        "y_generated = model1.predict(x_testd)"
      ]
    },
    {
      "cell_type": "code",
      "execution_count": 95,
      "metadata": {
        "id": "c7f60f73",
        "colab": {
          "base_uri": "https://localhost:8080/"
        },
        "outputId": "bf2469af-f774-41ca-8856-9f4531cbbd60"
      },
      "outputs": [
        {
          "output_type": "execute_result",
          "data": {
            "text/plain": [
              "array([[9.4351375e-01, 4.4089291e-02, 1.2396991e-02],\n",
              "       [4.7437873e-01, 5.5072138e-05, 5.2556622e-01],\n",
              "       [4.5737943e-01, 5.6397442e-02, 4.8622316e-01],\n",
              "       ...,\n",
              "       [8.3490491e-01, 8.2928263e-02, 8.2166776e-02],\n",
              "       [6.9471008e-01, 2.8568995e-01, 1.9599948e-02],\n",
              "       [4.6881479e-01, 1.6100527e-01, 3.7017986e-01]], dtype=float32)"
            ]
          },
          "metadata": {},
          "execution_count": 95
        }
      ],
      "source": [
        "y_generated"
      ]
    },
    {
      "cell_type": "code",
      "source": [
        ""
      ],
      "metadata": {
        "id": "nYZCzr2sjhDr"
      },
      "execution_count": 95,
      "outputs": []
    },
    {
      "cell_type": "markdown",
      "source": [
        "# **Bi-Lstm Model with Attention Layer using sigmoid**"
      ],
      "metadata": {
        "id": "QDgy9J1ljjAp"
      }
    },
    {
      "cell_type": "code",
      "source": [
        "model2 = Sequential()\n",
        "model2.add(LSTM(200,input_shape=(1,200),return_sequences=True))\n",
        "model2.add(Dropout(0.3))\n",
        "model2.add(Bidirectional(LSTM(128, return_sequences=True,activation='relu')))\n",
        "model2.add(attention())\n",
        "model2.add(Dropout(0.3))\n",
        "model2.add(Dense(3, activation='sigmoid'))\n",
        "model2.compile(loss=\"binary_crossentropy\", optimizer = 'adam', metrics = ['accuracy'])\n",
        "model2.summary()"
      ],
      "metadata": {
        "id": "NPyCHVaajjAq",
        "colab": {
          "base_uri": "https://localhost:8080/"
        },
        "outputId": "1e72d495-80ac-4dc6-e88f-fcb1c6e0ead8"
      },
      "execution_count": 76,
      "outputs": [
        {
          "output_type": "stream",
          "name": "stdout",
          "text": [
            "Model: \"sequential_8\"\n",
            "_________________________________________________________________\n",
            " Layer (type)                Output Shape              Param #   \n",
            "=================================================================\n",
            " lstm_18 (LSTM)              (None, 1, 200)            320800    \n",
            "                                                                 \n",
            " dropout_16 (Dropout)        (None, 1, 200)            0         \n",
            "                                                                 \n",
            " bidirectional_10 (Bidirecti  (None, 1, 256)           336896    \n",
            " onal)                                                           \n",
            "                                                                 \n",
            " attention_9 (attention)     (None, 256)               257       \n",
            "                                                                 \n",
            " dropout_17 (Dropout)        (None, 256)               0         \n",
            "                                                                 \n",
            " dense_15 (Dense)            (None, 3)                 771       \n",
            "                                                                 \n",
            "=================================================================\n",
            "Total params: 658,724\n",
            "Trainable params: 658,724\n",
            "Non-trainable params: 0\n",
            "_________________________________________________________________\n"
          ]
        }
      ]
    },
    {
      "cell_type": "code",
      "execution_count": 77,
      "metadata": {
        "id": "17_BjLx1jjAq",
        "colab": {
          "base_uri": "https://localhost:8080/"
        },
        "outputId": "fdcfeeb2-3da3-49d9-d320-ae9fec6f3872"
      },
      "outputs": [
        {
          "output_type": "stream",
          "name": "stdout",
          "text": [
            "Epoch 1/22\n",
            "56/56 [==============================] - 6s 38ms/step - loss: 0.6196 - accuracy: 0.7944 - val_loss: 0.5813 - val_accuracy: 0.8045\n",
            "Epoch 2/22\n",
            "56/56 [==============================] - 1s 24ms/step - loss: 0.5746 - accuracy: 0.8040 - val_loss: 0.5481 - val_accuracy: 0.8045\n",
            "Epoch 3/22\n",
            "56/56 [==============================] - 1s 24ms/step - loss: 0.5458 - accuracy: 0.7978 - val_loss: 0.5327 - val_accuracy: 0.8101\n",
            "Epoch 4/22\n",
            "56/56 [==============================] - 1s 24ms/step - loss: 0.5331 - accuracy: 0.7822 - val_loss: 0.5204 - val_accuracy: 0.7635\n",
            "Epoch 5/22\n",
            "56/56 [==============================] - 1s 24ms/step - loss: 0.5253 - accuracy: 0.7558 - val_loss: 0.5115 - val_accuracy: 0.7758\n",
            "Epoch 6/22\n",
            "56/56 [==============================] - 1s 24ms/step - loss: 0.5190 - accuracy: 0.7403 - val_loss: 0.5060 - val_accuracy: 0.7528\n",
            "Epoch 7/22\n",
            "56/56 [==============================] - 1s 24ms/step - loss: 0.5122 - accuracy: 0.7381 - val_loss: 0.5016 - val_accuracy: 0.7680\n",
            "Epoch 8/22\n",
            "56/56 [==============================] - 1s 24ms/step - loss: 0.5086 - accuracy: 0.7285 - val_loss: 0.4977 - val_accuracy: 0.7663\n",
            "Epoch 9/22\n",
            "56/56 [==============================] - 1s 23ms/step - loss: 0.5022 - accuracy: 0.7337 - val_loss: 0.5007 - val_accuracy: 0.6680\n",
            "Epoch 10/22\n",
            "56/56 [==============================] - 1s 24ms/step - loss: 0.5015 - accuracy: 0.7296 - val_loss: 0.4934 - val_accuracy: 0.7219\n",
            "Epoch 11/22\n",
            "56/56 [==============================] - 1s 24ms/step - loss: 0.5004 - accuracy: 0.7315 - val_loss: 0.4911 - val_accuracy: 0.7567\n",
            "Epoch 12/22\n",
            "56/56 [==============================] - 1s 24ms/step - loss: 0.4959 - accuracy: 0.7250 - val_loss: 0.4906 - val_accuracy: 0.7534\n",
            "Epoch 13/22\n",
            "56/56 [==============================] - 1s 24ms/step - loss: 0.4935 - accuracy: 0.7278 - val_loss: 0.4915 - val_accuracy: 0.6893\n",
            "Epoch 14/22\n",
            "56/56 [==============================] - 1s 24ms/step - loss: 0.4932 - accuracy: 0.7284 - val_loss: 0.4875 - val_accuracy: 0.7489\n",
            "Epoch 15/22\n",
            "56/56 [==============================] - 1s 25ms/step - loss: 0.4905 - accuracy: 0.7338 - val_loss: 0.4874 - val_accuracy: 0.7180\n",
            "Epoch 16/22\n",
            "56/56 [==============================] - 1s 24ms/step - loss: 0.4906 - accuracy: 0.7237 - val_loss: 0.4861 - val_accuracy: 0.7258\n",
            "Epoch 17/22\n",
            "56/56 [==============================] - 1s 24ms/step - loss: 0.4892 - accuracy: 0.7254 - val_loss: 0.4903 - val_accuracy: 0.6674\n",
            "Epoch 18/22\n",
            "56/56 [==============================] - 1s 24ms/step - loss: 0.4873 - accuracy: 0.7300 - val_loss: 0.4877 - val_accuracy: 0.7118\n",
            "Epoch 19/22\n",
            "56/56 [==============================] - 1s 24ms/step - loss: 0.4870 - accuracy: 0.7333 - val_loss: 0.4865 - val_accuracy: 0.7191\n",
            "Epoch 20/22\n",
            "56/56 [==============================] - 1s 24ms/step - loss: 0.4853 - accuracy: 0.7323 - val_loss: 0.4921 - val_accuracy: 0.6500\n",
            "Epoch 21/22\n",
            "56/56 [==============================] - 1s 25ms/step - loss: 0.4846 - accuracy: 0.7260 - val_loss: 0.4854 - val_accuracy: 0.7236\n",
            "Epoch 22/22\n",
            "56/56 [==============================] - 1s 24ms/step - loss: 0.4835 - accuracy: 0.7302 - val_loss: 0.4883 - val_accuracy: 0.7478\n"
          ]
        }
      ],
      "source": [
        "history = model2.fit(x_traind,y_traind, epochs=22, batch_size=128, validation_split=0.2)"
      ]
    },
    {
      "cell_type": "code",
      "execution_count": 78,
      "metadata": {
        "id": "royfR7pbjjAq"
      },
      "outputs": [],
      "source": [
        "y_generated1 = model2.predict(x_testd)"
      ]
    },
    {
      "cell_type": "code",
      "execution_count": 79,
      "metadata": {
        "id": "iWoRZTc2jjAq",
        "colab": {
          "base_uri": "https://localhost:8080/"
        },
        "outputId": "54ff735c-0d98-4b39-c91d-0a70a4892b6d"
      },
      "outputs": [
        {
          "output_type": "execute_result",
          "data": {
            "text/plain": [
              "array([[9.0446579e-01, 2.0710212e-01, 4.3985039e-02],\n",
              "       [6.0456347e-01, 1.0902932e-04, 4.9514097e-01],\n",
              "       [6.5908891e-01, 1.6069886e-01, 5.0699192e-01],\n",
              "       ...,\n",
              "       [8.5249889e-01, 3.2407683e-01, 2.3674595e-01],\n",
              "       [5.8719200e-01, 3.1133547e-01, 1.9388258e-02],\n",
              "       [4.1862080e-01, 1.6867122e-01, 2.8283823e-01]], dtype=float32)"
            ]
          },
          "metadata": {},
          "execution_count": 79
        }
      ],
      "source": [
        "y_generated1"
      ]
    },
    {
      "cell_type": "markdown",
      "source": [
        "# **Prediction and cm functions**"
      ],
      "metadata": {
        "id": "k20UKaJdz4F3"
      }
    },
    {
      "cell_type": "code",
      "source": [
        "def accuracy(sub_df,test_dff):\n",
        "  pred1 = sub_df\n",
        "  print('Predicted Values')\n",
        "  print(pred1)\n",
        "  y_pred = []\n",
        "  for sample in  pred1:\n",
        "    y_pred.append([1 if i>=0.5 else 0 for i in sample ] )\n",
        "  y_pred = np.array(y_pred)\n",
        "  print('Predicted Labels')\n",
        "  print(y_pred)\n",
        "  print('Accuracy Score:' + str(accuracy_score(np.array(y_pred),np.array(test_dff))))"
      ],
      "metadata": {
        "id": "qaQG22hhTR4M"
      },
      "execution_count": 80,
      "outputs": []
    },
    {
      "cell_type": "code",
      "source": [
        "def classification__report(y_generated,y_test):\n",
        "  y_pred=[]\n",
        "  for sample in  y_generated:\n",
        "    y_pred.append([1 if i>=0.5 else 0 for i in sample ] )\n",
        "  y_pred = np.array(y_pred)\n",
        "  y_pred\n",
        "  print(multilabel_confusion_matrix(y_test, y_pred))\n",
        "  label_names = ['Label Fake','Label Hate','Label Sentiment']\n",
        "  print(classification_report(y_test, y_pred,target_names=label_names))"
      ],
      "metadata": {
        "id": "q_oJUvtKj7OU"
      },
      "execution_count": 81,
      "outputs": []
    },
    {
      "cell_type": "code",
      "source": [
        "def get_list(l2,k,len2):\n",
        "  k1 = []\n",
        "  for i in range(len2):\n",
        "    k1.append(l2[i][k])\n",
        "  return k1"
      ],
      "metadata": {
        "id": "PF63zBu1u5oG"
      },
      "execution_count": 82,
      "outputs": []
    },
    {
      "cell_type": "code",
      "execution_count": 83,
      "metadata": {
        "id": "4429f192"
      },
      "outputs": [],
      "source": [
        "def prediction(y_generated):\n",
        "  len1 = y_generated.shape[0]\n",
        "  l2 = []\n",
        "  for i in range(len1):\n",
        "    l1 = []\n",
        "    for j in range(3):\n",
        "            if y_generated[i][j] <0.5:\n",
        "                l1.append(0)\n",
        "            else:\n",
        "                l1.append(1)\n",
        "    l2.append(l1)\n",
        "  l2=np.array(l2)\n",
        "  print(l2)\n",
        "  len2 = l2.shape[0]\n",
        "  f1 = get_list(l2,0,len2)\n",
        "  h1 = get_list(l2,1,len2)\n",
        "  s1 = get_list(l2,2,len2)\n",
        "  return f1,h1,s1"
      ]
    },
    {
      "cell_type": "code",
      "source": [
        "def cm_df(k1_t,k1,name,cmap):\n",
        "  print('                                  '  +name )\n",
        "  cm = confusion_matrix(k1_t,k1,labels=[0,1])\n",
        "  cm_df = pd.DataFrame(cm,index = ['0','1'],\n",
        "                     columns = ['0','1'])\n",
        "  plt.figure(figsize=(10,5))\n",
        "  sns.heatmap(cm_df, annot=True, fmt=\"d\", cmap=cmap)\n",
        "  plt.title('Bi-lstm_model:{0:.3f}'.format(accuracy_score(k1_t,k1)))\n",
        "  plt.ylabel('True Label')\n",
        "  plt.xlabel('Predicted Label')\n",
        "  plt.show()\n",
        "  print('                                  ')\n",
        "  print('                                  ')\n",
        "  print('                                  ')"
      ],
      "metadata": {
        "id": "cwDr6KqE0Jl0"
      },
      "execution_count": 84,
      "outputs": []
    },
    {
      "cell_type": "code",
      "source": [
        "def testing(y_generated,y_test):\n",
        "  f1_t = get_list(y_testd,0,y_testd.shape[0])\n",
        "  h1_t = get_list(y_testd,1,y_testd.shape[0])\n",
        "  s1_t = get_list(y_testd,2,y_testd.shape[0])\n",
        "  f1,h1,s1 = prediction(y_generated)\n",
        "\n",
        "  cm_df(f1_t,f1,'Fake','gist_heat')\n",
        "  cm_df(h1_t,h1,'Hate','YlOrRd')\n",
        "  cm_df(s1_t,s1,'Sentiment','PuBu')"
      ],
      "metadata": {
        "id": "pOZPglg-0lZ9"
      },
      "execution_count": 85,
      "outputs": []
    },
    {
      "cell_type": "code",
      "source": [
        "classification__report(y_generated,y_testd)"
      ],
      "metadata": {
        "id": "st8WVo_okDFK",
        "colab": {
          "base_uri": "https://localhost:8080/"
        },
        "outputId": "a510828b-02b5-4bfe-d314-0aa7c9dcbcfc"
      },
      "execution_count": 86,
      "outputs": [
        {
          "output_type": "stream",
          "name": "stdout",
          "text": [
            "[[[ 300  286]\n",
            "  [ 251  733]]\n",
            "\n",
            " [[1219   76]\n",
            "  [ 207   68]]\n",
            "\n",
            " [[ 940   81]\n",
            "  [ 384  165]]]\n",
            "                 precision    recall  f1-score   support\n",
            "\n",
            "     Label Fake       0.72      0.74      0.73       984\n",
            "     Label Hate       0.47      0.25      0.32       275\n",
            "Label Sentiment       0.67      0.30      0.42       549\n",
            "\n",
            "      micro avg       0.69      0.53      0.60      1808\n",
            "      macro avg       0.62      0.43      0.49      1808\n",
            "   weighted avg       0.67      0.53      0.57      1808\n",
            "    samples avg       0.62      0.47      0.52      1808\n",
            "\n"
          ]
        },
        {
          "output_type": "stream",
          "name": "stderr",
          "text": [
            "/usr/local/lib/python3.7/dist-packages/sklearn/metrics/_classification.py:1318: UndefinedMetricWarning: Precision and F-score are ill-defined and being set to 0.0 in samples with no predicted labels. Use `zero_division` parameter to control this behavior.\n",
            "  _warn_prf(average, modifier, msg_start, len(result))\n",
            "/usr/local/lib/python3.7/dist-packages/sklearn/metrics/_classification.py:1318: UndefinedMetricWarning: Recall and F-score are ill-defined and being set to 0.0 in samples with no true labels. Use `zero_division` parameter to control this behavior.\n",
            "  _warn_prf(average, modifier, msg_start, len(result))\n"
          ]
        }
      ]
    },
    {
      "cell_type": "code",
      "source": [
        "testing(y_generated,y_testd)"
      ],
      "metadata": {
        "id": "ViHg_BGN3mdJ",
        "colab": {
          "base_uri": "https://localhost:8080/",
          "height": 1000
        },
        "outputId": "68b45725-c828-4d41-cedd-592cb9931e53"
      },
      "execution_count": 87,
      "outputs": [
        {
          "output_type": "stream",
          "name": "stdout",
          "text": [
            "[[1 0 0]\n",
            " [0 0 1]\n",
            " [0 0 0]\n",
            " ...\n",
            " [1 0 0]\n",
            " [1 0 0]\n",
            " [0 0 0]]\n",
            "                                  Fake\n"
          ]
        },
        {
          "output_type": "display_data",
          "data": {
            "text/plain": [
              "<Figure size 720x360 with 2 Axes>"
            ],
            "image/png": "[encoded data removed]"
          },
          "metadata": {
            "needs_background": "light"
          }
        },
        {
          "output_type": "stream",
          "name": "stdout",
          "text": [
            "                                  \n",
            "                                  \n",
            "                                  \n",
            "                                  Hate\n"
          ]
        },
        {
          "output_type": "display_data",
          "data": {
            "text/plain": [
              "<Figure size 720x360 with 2 Axes>"
            ],
            "image/png": "[encoded data removed]"
          },
          "metadata": {
            "needs_background": "light"
          }
        },
        {
          "output_type": "stream",
          "name": "stdout",
          "text": [
            "                                  \n",
            "                                  \n",
            "                                  \n",
            "                                  Sentiment\n"
          ]
        },
        {
          "output_type": "display_data",
          "data": {
            "text/plain": [
              "<Figure size 720x360 with 2 Axes>"
            ],
            "image/png": "[encoded data removed]"
          },
          "metadata": {
            "needs_background": "light"
          }
        },
        {
          "output_type": "stream",
          "name": "stdout",
          "text": [
            "                                  \n",
            "                                  \n",
            "                                  \n"
          ]
        }
      ]
    },
    {
      "cell_type": "code",
      "source": [
        "accuracy(y_generated,y_testd)"
      ],
      "metadata": {
        "colab": {
          "base_uri": "https://localhost:8080/"
        },
        "id": "PZKt2j8fTbm-",
        "outputId": "4857fa0a-e5d0-4e94-de48-fab52d28eb61"
      },
      "execution_count": 88,
      "outputs": [
        {
          "output_type": "stream",
          "name": "stdout",
          "text": [
            "Predicted Values\n",
            "[[9.4828117e-01 4.2672124e-02 9.0467324e-03]\n",
            " [4.8262921e-01 4.6255802e-05 5.1732457e-01]\n",
            " [4.9402624e-01 5.7337578e-02 4.4863623e-01]\n",
            " ...\n",
            " [8.5361946e-01 8.3269209e-02 6.3111342e-02]\n",
            " [6.7021132e-01 3.1489778e-01 1.4890928e-02]\n",
            " [4.8586035e-01 1.5119967e-01 3.6293995e-01]]\n",
            "Predicted Labels\n",
            "[[1 0 0]\n",
            " [0 0 1]\n",
            " [0 0 0]\n",
            " ...\n",
            " [1 0 0]\n",
            " [1 0 0]\n",
            " [0 0 0]]\n",
            "Accuracy Score:0.36050955414012736\n"
          ]
        }
      ]
    },
    {
      "cell_type": "code",
      "source": [
        "classification__report(y_generated1,y_testd)"
      ],
      "metadata": {
        "id": "Fhm1uXNLkEkH",
        "colab": {
          "base_uri": "https://localhost:8080/"
        },
        "outputId": "744e0e36-73c4-489e-abdb-d8d1cd768578"
      },
      "execution_count": 89,
      "outputs": [
        {
          "output_type": "stream",
          "name": "stdout",
          "text": [
            "[[[ 272  314]\n",
            "  [ 186  798]]\n",
            "\n",
            " [[1249   46]\n",
            "  [ 233   42]]\n",
            "\n",
            " [[ 923   98]\n",
            "  [ 361  188]]]\n",
            "                 precision    recall  f1-score   support\n",
            "\n",
            "     Label Fake       0.72      0.81      0.76       984\n",
            "     Label Hate       0.48      0.15      0.23       275\n",
            "Label Sentiment       0.66      0.34      0.45       549\n",
            "\n",
            "      micro avg       0.69      0.57      0.62      1808\n",
            "      macro avg       0.62      0.44      0.48      1808\n",
            "   weighted avg       0.66      0.57      0.59      1808\n",
            "    samples avg       0.55      0.48      0.50      1808\n",
            "\n"
          ]
        },
        {
          "output_type": "stream",
          "name": "stderr",
          "text": [
            "/usr/local/lib/python3.7/dist-packages/sklearn/metrics/_classification.py:1318: UndefinedMetricWarning: Precision and F-score are ill-defined and being set to 0.0 in samples with no predicted labels. Use `zero_division` parameter to control this behavior.\n",
            "  _warn_prf(average, modifier, msg_start, len(result))\n",
            "/usr/local/lib/python3.7/dist-packages/sklearn/metrics/_classification.py:1318: UndefinedMetricWarning: Recall and F-score are ill-defined and being set to 0.0 in samples with no true labels. Use `zero_division` parameter to control this behavior.\n",
            "  _warn_prf(average, modifier, msg_start, len(result))\n"
          ]
        }
      ]
    },
    {
      "cell_type": "code",
      "source": [
        "testing(y_generated1,y_testd)"
      ],
      "metadata": {
        "id": "8mBUR6rDkGZm",
        "colab": {
          "base_uri": "https://localhost:8080/",
          "height": 1000
        },
        "outputId": "80665409-43f1-429a-c6c0-3eded56d7b48"
      },
      "execution_count": 90,
      "outputs": [
        {
          "output_type": "stream",
          "name": "stdout",
          "text": [
            "[[1 0 0]\n",
            " [1 0 0]\n",
            " [1 0 1]\n",
            " ...\n",
            " [1 0 0]\n",
            " [1 0 0]\n",
            " [0 0 0]]\n",
            "                                  Fake\n"
          ]
        },
        {
          "output_type": "display_data",
          "data": {
            "text/plain": [
              "<Figure size 720x360 with 2 Axes>"
            ],
            "image/png": "[encoded data removed]"
          },
          "metadata": {
            "needs_background": "light"
          }
        },
        {
          "output_type": "stream",
          "name": "stdout",
          "text": [
            "                                  \n",
            "                                  \n",
            "                                  \n",
            "                                  Hate\n"
          ]
        },
        {
          "output_type": "display_data",
          "data": {
            "text/plain": [
              "<Figure size 720x360 with 2 Axes>"
            ],
            "image/png": "[encoded data removed]"
          },
          "metadata": {
            "needs_background": "light"
          }
        },
        {
          "output_type": "stream",
          "name": "stdout",
          "text": [
            "                                  \n",
            "                                  \n",
            "                                  \n",
            "                                  Sentiment\n"
          ]
        },
        {
          "output_type": "display_data",
          "data": {
            "text/plain": [
              "<Figure size 720x360 with 2 Axes>"
            ],
            "image/png": "[encoded data removed]"
          },
          "metadata": {
            "needs_background": "light"
          }
        },
        {
          "output_type": "stream",
          "name": "stdout",
          "text": [
            "                                  \n",
            "                                  \n",
            "                                  \n"
          ]
        }
      ]
    },
    {
      "cell_type": "code",
      "source": [
        "accuracy(y_generated1,y_testd)"
      ],
      "metadata": {
        "colab": {
          "base_uri": "https://localhost:8080/"
        },
        "id": "DaBnILjTTWX4",
        "outputId": "98de1e13-3c58-4248-d843-7909fe611f01"
      },
      "execution_count": 91,
      "outputs": [
        {
          "output_type": "stream",
          "name": "stdout",
          "text": [
            "Predicted Values\n",
            "[[9.0446579e-01 2.0710212e-01 4.3985039e-02]\n",
            " [6.0456347e-01 1.0902932e-04 4.9514097e-01]\n",
            " [6.5908891e-01 1.6069886e-01 5.0699192e-01]\n",
            " ...\n",
            " [8.5249889e-01 3.2407683e-01 2.3674595e-01]\n",
            " [5.8719200e-01 3.1133547e-01 1.9388258e-02]\n",
            " [4.1862080e-01 1.6867122e-01 2.8283823e-01]]\n",
            "Predicted Labels\n",
            "[[1 0 0]\n",
            " [1 0 0]\n",
            " [1 0 1]\n",
            " ...\n",
            " [1 0 0]\n",
            " [1 0 0]\n",
            " [0 0 0]]\n",
            "Accuracy Score:0.38471337579617837\n"
          ]
        }
      ]
    }
  ]
}